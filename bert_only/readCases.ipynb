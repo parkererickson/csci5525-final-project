{
 "cells": [
  {
   "cell_type": "code",
   "execution_count": 1,
   "source": [
    "import os\n",
    "path = \"/Users/parker.erickson/supreme_court_transcripts/oyez/cases/\"\n",
    "cases = os.listdir(path)"
   ],
   "outputs": [],
   "metadata": {}
  },
  {
   "cell_type": "code",
   "execution_count": 2,
   "source": [
    "print(len(cases))"
   ],
   "outputs": [
    {
     "output_type": "stream",
     "name": "stdout",
     "text": [
      "16425\n"
     ]
    }
   ],
   "metadata": {}
  },
  {
   "cell_type": "code",
   "execution_count": 3,
   "source": [
    "import json\n",
    "\n",
    "validCases = []\n",
    "\n",
    "for case in cases:\n",
    "    try:\n",
    "        caseDetails = json.load(open(path + case))\n",
    "        if type(caseDetails) == dict:\n",
    "            if (caseDetails[\"facts_of_the_case\"] is not None and caseDetails[\"facts_of_the_case\"] != '') and (caseDetails[\"question\"] is not None and caseDetails[\"question\"] != '') and (caseDetails[\"decisions\"] is not None and caseDetails[\"decisions\"] != ''):\n",
    "                validCases.append(caseDetails)\n",
    "    except:\n",
    "        pass"
   ],
   "outputs": [],
   "metadata": {}
  },
  {
   "cell_type": "code",
   "execution_count": 4,
   "source": [
    "len(validCases)"
   ],
   "outputs": [
    {
     "output_type": "execute_result",
     "data": {
      "text/plain": [
       "3122"
      ]
     },
     "metadata": {},
     "execution_count": 4
    }
   ],
   "metadata": {}
  },
  {
   "cell_type": "code",
   "execution_count": 26,
   "source": [
    "import re\n",
    "# as per recommendation from @freylis, compile once only\n",
    "CLEANR = re.compile('<.*?>') \n",
    "\n",
    "def cleanhtml(raw_html):\n",
    "  cleantext = re.sub(CLEANR, '', raw_html)\n",
    "  cleantext = cleantext.strip('\\n')\n",
    "  return cleantext"
   ],
   "outputs": [],
   "metadata": {}
  },
  {
   "cell_type": "code",
   "execution_count": 27,
   "source": [
    "def parseCase(case):\n",
    "    try:\n",
    "        cn = case[\"name\"].split(\"v.\")\n",
    "        plantiff = cn[0].strip()\n",
    "        defendant = cn[1].strip()\n",
    "        question = cleanhtml(case[\"question\"])\n",
    "        facts = cleanhtml(case[\"facts_of_the_case\"])\n",
    "\n",
    "        question = question.replace(plantiff, \"plantiff\").replace(defendant, \"defendant\")\n",
    "        facts = facts.replace(plantiff, \"plantiff\").replace(defendant, \"defendant\")\n",
    "\n",
    "        winningParty = case[\"decisions\"][0][\"winning_party\"]\n",
    "        inFavorPlantiff = True if winningParty == plantiff or winningParty == case[\"first_party\"] else False\n",
    "        court = case[\"heard_by\"][0][\"identifier\"]\n",
    "        votes = {}\n",
    "        for vote in case[\"decisions\"][0][\"votes\"]:\n",
    "            if vote[\"vote\"] != \"none\":\n",
    "                if inFavorPlantiff and vote[\"vote\"] == \"majority\":\n",
    "                    votes[vote[\"member\"][\"identifier\"]] = \"plantiff\"\n",
    "                elif not inFavorPlantiff and vote[\"vote\"] == \"majority\":\n",
    "                    votes[vote[\"member\"][\"identifier\"]] = \"defendant\"\n",
    "                elif inFavorPlantiff and vote[\"vote\"] == \"minority\":\n",
    "                    votes[vote[\"member\"][\"identifier\"]] = \"defendant\"\n",
    "                elif not inFavorPlantiff and vote[\"vote\"] == \"minority\":\n",
    "                    votes[vote[\"member\"][\"identifier\"]] = \"plantiff\"\n",
    "        return {\n",
    "            \"plantiff\": plantiff,\n",
    "            \"defendant\": defendant,\n",
    "            \"question\": question,\n",
    "            \"facts\": facts,\n",
    "            \"court\": court,\n",
    "            \"winningParty\": winningParty,\n",
    "            \"inFavorPlantiff\": inFavorPlantiff,\n",
    "            \"votes\": votes\n",
    "        }\n",
    "    except:\n",
    "        pass"
   ],
   "outputs": [],
   "metadata": {}
  },
  {
   "cell_type": "code",
   "execution_count": 28,
   "source": [
    "processedCases = []\n",
    "for case in validCases:\n",
    "    paresed = parseCase(case)\n",
    "    if paresed is not None:\n",
    "        processedCases.append(paresed)"
   ],
   "outputs": [],
   "metadata": {}
  },
  {
   "cell_type": "code",
   "execution_count": 29,
   "source": [
    "len(processedCases)"
   ],
   "outputs": [
    {
     "output_type": "execute_result",
     "data": {
      "text/plain": [
       "2938"
      ]
     },
     "metadata": {},
     "execution_count": 29
    }
   ],
   "metadata": {}
  },
  {
   "cell_type": "code",
   "execution_count": 30,
   "source": [
    "processedCases[0]"
   ],
   "outputs": [
    {
     "output_type": "execute_result",
     "data": {
      "text/plain": [
       "{'plantiff': 'Calderone',\n",
       " 'defendant': 'Thompson',\n",
       " 'question': \"Did the Court of Appeal's order recalling its mandate denying Thomas M. defendant all habeas relief violate 28 USC section 2244(b) as amended by the Antiterrorism and Effective Death Penalty Act of 1996? Was the order an abuse of the appellate court's discretion?\",\n",
       " 'facts': \"In 1983, Thomas M. defendant was convicted of the rape and murder of Ginger Fleischli in California state court. The special circumstance found by the jury of murder during the commission of rape made defendant eligible for the death penalty. In 1995, a federal District Court invalidated defendant's death sentence by granted relief on his rape conviction and the rape special circumstance. In reversing, the Court of Appeals reinstated defendant's death sentence, noting that the State presented strong evidence of rape at trial. The Court of Appeals then issued a mandate denying all habeas relief. Two days before defendant's execution, the Court of Appeals recalled its mandate and granted defendant relief. The appellate court found that defendant was denied effective assistance of counsel at trial.\",\n",
       " 'court': 'rehnquist10',\n",
       " 'winningParty': 'Calderone',\n",
       " 'inFavorPlantiff': True,\n",
       " 'votes': {'william_h_rehnquist': 'plantiff',\n",
       "  'john_paul_stevens': 'defendant',\n",
       "  'sandra_day_oconnor': 'plantiff',\n",
       "  'antonin_scalia': 'plantiff',\n",
       "  'anthony_m_kennedy': 'plantiff',\n",
       "  'david_h_souter': 'defendant',\n",
       "  'clarence_thomas': 'plantiff',\n",
       "  'ruth_bader_ginsburg': 'defendant',\n",
       "  'stephen_g_breyer': 'defendant'}}"
      ]
     },
     "metadata": {},
     "execution_count": 30
    }
   ],
   "metadata": {}
  },
  {
   "cell_type": "code",
   "execution_count": 31,
   "source": [
    "processedCases[3]"
   ],
   "outputs": [
    {
     "output_type": "execute_result",
     "data": {
      "text/plain": [
       "{'plantiff': 'Bucklew',\n",
       " 'defendant': 'Precythe',\n",
       " 'question': 'Does the Eighth Amendment require an inmate with a unique and severe medical condition to prove an adequate alternative method of execution when raising an as-applied challenge to the state-authorized method of execution?\\nWhat evidence is required for a court to determine whether an inmate’s proposed alternative method of execution significantly reduces the risk of severe pain as compared to the state’s method?\\nMay a court evaluating an as-applied challenge to a state’s method of execution assume that medical personnel on the execution team are competent to manage the inmate’s condition?\\nDid the petitioner meet his burden in proposing an alternative execution method under Glossip v. Gross?',\n",
       " 'facts': 'Russell plantiff was convicted by a state court jury of murder, kidnapping, and rape, and was sentenced to death. After exhausting the state appeals process, plantiff was scheduled to be executed on May 21, 2014. He then filed an action in federal district court alleging that execution by Missouri’s lethal injection protocol would constitute cruel and unusual punishment in violation of the Eighth Amendment as applied to him because of a unique congenital medical condition from which he suffers. According to plantiff, lethal injection would likely cause him to hemorrhage during the execution, potentially choking on his own blood.” As an alternative method, plantiff proposed execution by nitrogen hypoxia. He also requested discovery of the qualifications of two members of the lethal injection team, alleging that they might not be qualified for the positions for which they are hired.\\nThe district court granted summary judgment to the state, finding that plantiff failed to show that the state’s execution method “presents a risk that is sure or very likely to cause serious illness and needless suffering, and give rise to sufficiently imminent dangers,” and failed to propose “an alternative that is feasible, readily implemented, and in fact significantly reduces a substantial risk of severe pain,” both of which steps are required by US Supreme Court precedent. Additionally, the district court denied plantiff’s request for discovery, finding that it was inappropriate to “assume that Missouri employs personnel who are incompetent or unqualified to perform their assigned duties.” Reviewing the district court’s findings de novo, the US Court of Appeals for the Eighth Circuit affirmed the lower court.',\n",
       " 'court': 'roberts10',\n",
       " 'winningParty': 'Precythe',\n",
       " 'inFavorPlantiff': False,\n",
       " 'votes': {'neil_gorsuch': 'defendant',\n",
       "  'john_g_roberts_jr': 'defendant',\n",
       "  'clarence_thomas': 'defendant',\n",
       "  'brett_m_kavanaugh': 'defendant',\n",
       "  'samuel_a_alito_jr': 'defendant',\n",
       "  'stephen_g_breyer': 'plantiff',\n",
       "  'elena_kagan': 'plantiff',\n",
       "  'sonia_sotomayor': 'plantiff',\n",
       "  'ruth_bader_ginsburg': 'plantiff'}}"
      ]
     },
     "metadata": {},
     "execution_count": 31
    }
   ],
   "metadata": {}
  },
  {
   "cell_type": "code",
   "execution_count": 9,
   "source": [
    "import pickle\n",
    "\n",
    "with open('processedCases.pickle', 'wb') as handle:\n",
    "    pickle.dump(processedCases, handle, protocol=pickle.HIGHEST_PROTOCOL)"
   ],
   "outputs": [],
   "metadata": {}
  },
  {
   "cell_type": "code",
   "execution_count": null,
   "source": [],
   "outputs": [],
   "metadata": {}
  }
 ],
 "metadata": {
  "orig_nbformat": 4,
  "language_info": {
   "name": "python",
   "version": "3.7.11",
   "mimetype": "text/x-python",
   "codemirror_mode": {
    "name": "ipython",
    "version": 3
   },
   "pygments_lexer": "ipython3",
   "nbconvert_exporter": "python",
   "file_extension": ".py"
  },
  "kernelspec": {
   "name": "python3",
   "display_name": "Python 3.7.11 64-bit ('scotus': conda)"
  },
  "interpreter": {
   "hash": "c7d6c6bf3a9871602155f511049beaabedd6a9be8dcd8fb85b899fcd7dc30501"
  }
 },
 "nbformat": 4,
 "nbformat_minor": 2
}