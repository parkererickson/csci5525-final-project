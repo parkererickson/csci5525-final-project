{
 "cells": [
  {
   "cell_type": "code",
   "execution_count": 1,
   "source": [
    "import pyTigerGraph as tg \n",
    "conn = tg.TigerGraphConnection(graphname=\"SCOTUS_Graph\")\n",
    "embeddingDim = 200"
   ],
   "outputs": [],
   "metadata": {}
  },
  {
   "cell_type": "code",
   "execution_count": 2,
   "source": [
    "edgeTypes = conn.getEdgeTypes()"
   ],
   "outputs": [],
   "metadata": {}
  },
  {
   "cell_type": "code",
   "execution_count": 3,
   "source": [
    "edgeTypes"
   ],
   "outputs": [
    {
     "output_type": "execute_result",
     "data": {
      "text/plain": [
       "['CASE_CITED',\n",
       " 'PETITIONER_IN_STATE',\n",
       " 'RESPONDENT_IN_STATE',\n",
       " 'CASE_HAS_PETITIONER_TYPE',\n",
       " 'CASE_HAS_RESPONDENT_TYPE',\n",
       " 'CASE_ORIGIN',\n",
       " 'CASE_ORIGIN_FROM_STATE',\n",
       " 'CASE_ISSUE',\n",
       " 'ISSUE_IN_AREA',\n",
       " 'CONSERVATIVE_VOTE',\n",
       " 'LIBERAL_VOTE']"
      ]
     },
     "metadata": {},
     "execution_count": 3
    }
   ],
   "metadata": {}
  },
  {
   "cell_type": "code",
   "execution_count": 4,
   "source": [
    "len(edgeTypes)"
   ],
   "outputs": [
    {
     "output_type": "execute_result",
     "data": {
      "text/plain": [
       "11"
      ]
     },
     "metadata": {},
     "execution_count": 4
    }
   ],
   "metadata": {}
  },
  {
   "cell_type": "code",
   "execution_count": 5,
   "source": [
    "edgeWeights = {k:[] for k in edgeTypes}"
   ],
   "outputs": [],
   "metadata": {}
  },
  {
   "cell_type": "code",
   "execution_count": 6,
   "source": [
    "edgeWeights[\"CONSERVATIVE_VOTE\"] = [1 for i in range(embeddingDim)]\n",
    "edgeWeights[\"LIBERAL_VOTE\"] = [1 for i in range(embeddingDim)]"
   ],
   "outputs": [],
   "metadata": {}
  },
  {
   "cell_type": "code",
   "execution_count": 8,
   "source": [
    "edgeWeights[\"PETITIONER_IN_STATE\"] = [1 if i < 4 else 0 for i in range(embeddingDim)] # Few number of states, don't need that much to encode them  (0-3) 4\n",
    "edgeWeights[\"RESPONDENT_IN_STATE\"] = [1 if i > 3 and i < 8 else 0 for i in range(embeddingDim)] # Few number of states, don't need that much to encode them (4-7) 4\n",
    "edgeWeights[\"CASE_HAS_PETITIONER_TYPE\"] = [1 if i > 7 and i < 40 else 0 for i in range(embeddingDim)] # Petitioner Type is important (8-39) 32\n",
    "edgeWeights[\"CASE_HAS_RESPONDENT_TYPE\"] = [1 if i > 39 and i < 72 else 0 for i in range(embeddingDim)] # Respondent Type is important (40-71) 32\n",
    "edgeWeights[\"CASE_ORIGIN\"] = [1 if i > 71 and i < 104 else 0 for i in range(embeddingDim)] # Case Origin is important (72-103) 32\n",
    "edgeWeights[\"CASE_ORIGIN_FROM_STATE\"] = [1 if i > 103 and i < 108 else 0 for i in range(embeddingDim)] # Only encode states with 4 dimensions (104-107) 4\n",
    "edgeWeights[\"CASE_ISSUE\"] = [1 if i > 107 and i < 171 else 0 for i in range(embeddingDim)] # Case Issue is important (108-171) 64\n",
    "edgeWeights[\"ISSUE_IN_AREA\"] = [1 if i > 171 and i < 200 else 0 for i in range(embeddingDim)] # Issue in Area is important (172-199) 38"
   ],
   "outputs": [],
   "metadata": {}
  },
  {
   "cell_type": "code",
   "execution_count": 9,
   "source": [
    "conn.getEdgesByType(\"CONSERVATIVE_VOTE\")"
   ],
   "outputs": [
    {
     "output_type": "error",
     "ename": "TigerGraphException",
     "evalue": "(\"The query didn't finish because it exceeded the query timeout threshold (16 seconds). Please check GSE log for license expiration and RESTPP/GPE log with request id (19.RESTPP_1_1.1638896101303.N) for details. Try increase RESTPP.Factory.DefaultLoadingTimeoutSec or add header GSQL-TIMEOUT to override default system timeout. \", 'REST-3002')",
     "traceback": [
      "\u001b[0;31m---------------------------------------------------------------------------\u001b[0m",
      "\u001b[0;31mTigerGraphException\u001b[0m                       Traceback (most recent call last)",
      "\u001b[0;32m/var/folders/bk/c67_d2zd7cgbq4h3lpcfkjym0000gn/T/ipykernel_11213/759790180.py\u001b[0m in \u001b[0;36m<module>\u001b[0;34m\u001b[0m\n\u001b[0;32m----> 1\u001b[0;31m \u001b[0mconn\u001b[0m\u001b[0;34m.\u001b[0m\u001b[0mgetEdgesByType\u001b[0m\u001b[0;34m(\u001b[0m\u001b[0;34m\"CONSERVATIVE_VOTE\"\u001b[0m\u001b[0;34m)\u001b[0m\u001b[0;34m\u001b[0m\u001b[0;34m\u001b[0m\u001b[0m\n\u001b[0m",
      "\u001b[0;32m~/opt/anaconda3/envs/provider-sim/lib/python3.7/site-packages/pyTigerGraph/pyTigerGraph.py\u001b[0m in \u001b[0;36mgetEdgesByType\u001b[0;34m(self, edgeType, fmt, withId, withType)\u001b[0m\n\u001b[1;32m   1015\u001b[0m                 \u001b[0;34m.\u001b[0m\u001b[0mreplace\u001b[0m\u001b[0;34m(\u001b[0m\u001b[0;34m'$sourceEdgeType'\u001b[0m\u001b[0;34m,\u001b[0m \u001b[0msourceVertexType\u001b[0m\u001b[0;34m)\u001b[0m\u001b[0;31m \u001b[0m\u001b[0;31m\\\u001b[0m\u001b[0;34m\u001b[0m\u001b[0;34m\u001b[0m\u001b[0m\n\u001b[1;32m   1016\u001b[0m                 \u001b[0;34m.\u001b[0m\u001b[0mreplace\u001b[0m\u001b[0;34m(\u001b[0m\u001b[0;34m'$edgeType'\u001b[0m\u001b[0;34m,\u001b[0m \u001b[0medgeType\u001b[0m\u001b[0;34m)\u001b[0m\u001b[0;34m\u001b[0m\u001b[0;34m\u001b[0m\u001b[0m\n\u001b[0;32m-> 1017\u001b[0;31m             \u001b[0mret\u001b[0m \u001b[0;34m=\u001b[0m \u001b[0mself\u001b[0m\u001b[0;34m.\u001b[0m\u001b[0mrunInterpretedQuery\u001b[0m\u001b[0;34m(\u001b[0m\u001b[0mqueryText\u001b[0m\u001b[0;34m)\u001b[0m\u001b[0;34m\u001b[0m\u001b[0;34m\u001b[0m\u001b[0m\n\u001b[0m\u001b[1;32m   1018\u001b[0m         \u001b[0mret\u001b[0m \u001b[0;34m=\u001b[0m \u001b[0mret\u001b[0m\u001b[0;34m[\u001b[0m\u001b[0;36m0\u001b[0m\u001b[0;34m]\u001b[0m\u001b[0;34m[\u001b[0m\u001b[0;34m\"edges\"\u001b[0m\u001b[0;34m]\u001b[0m\u001b[0;34m\u001b[0m\u001b[0;34m\u001b[0m\u001b[0m\n\u001b[1;32m   1019\u001b[0m \u001b[0;34m\u001b[0m\u001b[0m\n",
      "\u001b[0;32m~/opt/anaconda3/envs/provider-sim/lib/python3.7/site-packages/pyTigerGraph/pyTigerGraph.py\u001b[0m in \u001b[0;36mrunInterpretedQuery\u001b[0;34m(self, queryText, params)\u001b[0m\n\u001b[1;32m   1179\u001b[0m         \"\"\"\n\u001b[1;32m   1180\u001b[0m         \u001b[0mqueryText\u001b[0m \u001b[0;34m=\u001b[0m \u001b[0mqueryText\u001b[0m\u001b[0;34m.\u001b[0m\u001b[0mreplace\u001b[0m\u001b[0;34m(\u001b[0m\u001b[0;34m\"$graphname\"\u001b[0m\u001b[0;34m,\u001b[0m \u001b[0mself\u001b[0m\u001b[0;34m.\u001b[0m\u001b[0mgraphname\u001b[0m\u001b[0;34m)\u001b[0m\u001b[0;34m\u001b[0m\u001b[0;34m\u001b[0m\u001b[0m\n\u001b[0;32m-> 1181\u001b[0;31m         \u001b[0;32mreturn\u001b[0m \u001b[0mself\u001b[0m\u001b[0;34m.\u001b[0m\u001b[0m_post\u001b[0m\u001b[0;34m(\u001b[0m\u001b[0mself\u001b[0m\u001b[0;34m.\u001b[0m\u001b[0mgsUrl\u001b[0m \u001b[0;34m+\u001b[0m \u001b[0;34m\"/gsqlserver/interpreted_query\"\u001b[0m\u001b[0;34m,\u001b[0m \u001b[0mdata\u001b[0m\u001b[0;34m=\u001b[0m\u001b[0mqueryText\u001b[0m\u001b[0;34m,\u001b[0m \u001b[0mparams\u001b[0m\u001b[0;34m=\u001b[0m\u001b[0mparams\u001b[0m\u001b[0;34m,\u001b[0m \u001b[0mauthMode\u001b[0m\u001b[0;34m=\u001b[0m\u001b[0;34m\"pwd\"\u001b[0m\u001b[0;34m)\u001b[0m\u001b[0;34m\u001b[0m\u001b[0;34m\u001b[0m\u001b[0m\n\u001b[0m\u001b[1;32m   1182\u001b[0m \u001b[0;34m\u001b[0m\u001b[0m\n\u001b[1;32m   1183\u001b[0m     \u001b[0;31m# Pandas DataFrame support =================================================\u001b[0m\u001b[0;34m\u001b[0m\u001b[0;34m\u001b[0m\u001b[0;34m\u001b[0m\u001b[0m\n",
      "\u001b[0;32m~/opt/anaconda3/envs/provider-sim/lib/python3.7/site-packages/pyTigerGraph/pyTigerGraph.py\u001b[0m in \u001b[0;36m_post\u001b[0;34m(self, url, authMode, headers, data, resKey, skipCheck, params)\u001b[0m\n\u001b[1;32m    210\u001b[0m         \u001b[0mFor\u001b[0m \u001b[0margument\u001b[0m \u001b[0mdetails\u001b[0m\u001b[0;34m,\u001b[0m \u001b[0msee\u001b[0m\u001b[0;31m \u001b[0m\u001b[0;31m`\u001b[0m\u001b[0m_req\u001b[0m\u001b[0;31m`\u001b[0m\u001b[0;34m.\u001b[0m\u001b[0;34m\u001b[0m\u001b[0;34m\u001b[0m\u001b[0m\n\u001b[1;32m    211\u001b[0m         \"\"\"\n\u001b[0;32m--> 212\u001b[0;31m         \u001b[0;32mreturn\u001b[0m \u001b[0mself\u001b[0m\u001b[0;34m.\u001b[0m\u001b[0m_req\u001b[0m\u001b[0;34m(\u001b[0m\u001b[0;34m\"POST\"\u001b[0m\u001b[0;34m,\u001b[0m \u001b[0murl\u001b[0m\u001b[0;34m,\u001b[0m \u001b[0mauthMode\u001b[0m\u001b[0;34m,\u001b[0m \u001b[0mheaders\u001b[0m\u001b[0;34m,\u001b[0m \u001b[0mdata\u001b[0m\u001b[0;34m,\u001b[0m \u001b[0mresKey\u001b[0m\u001b[0;34m,\u001b[0m \u001b[0mskipCheck\u001b[0m\u001b[0;34m,\u001b[0m \u001b[0mparams\u001b[0m\u001b[0;34m)\u001b[0m\u001b[0;34m\u001b[0m\u001b[0;34m\u001b[0m\u001b[0m\n\u001b[0m\u001b[1;32m    213\u001b[0m \u001b[0;34m\u001b[0m\u001b[0m\n\u001b[1;32m    214\u001b[0m     \u001b[0;32mdef\u001b[0m \u001b[0m_delete\u001b[0m\u001b[0;34m(\u001b[0m\u001b[0mself\u001b[0m\u001b[0;34m,\u001b[0m \u001b[0murl\u001b[0m\u001b[0;34m,\u001b[0m \u001b[0mauthMode\u001b[0m\u001b[0;34m=\u001b[0m\u001b[0;34m\"token\"\u001b[0m\u001b[0;34m)\u001b[0m\u001b[0;34m:\u001b[0m\u001b[0;34m\u001b[0m\u001b[0;34m\u001b[0m\u001b[0m\n",
      "\u001b[0;32m~/opt/anaconda3/envs/provider-sim/lib/python3.7/site-packages/pyTigerGraph/pyTigerGraph.py\u001b[0m in \u001b[0;36m_req\u001b[0;34m(self, method, url, authMode, headers, data, resKey, skipCheck, params)\u001b[0m\n\u001b[1;32m    188\u001b[0m         \u001b[0mres\u001b[0m \u001b[0;34m=\u001b[0m \u001b[0mjson\u001b[0m\u001b[0;34m.\u001b[0m\u001b[0mloads\u001b[0m\u001b[0;34m(\u001b[0m\u001b[0mres\u001b[0m\u001b[0;34m.\u001b[0m\u001b[0mtext\u001b[0m\u001b[0;34m)\u001b[0m\u001b[0;34m\u001b[0m\u001b[0;34m\u001b[0m\u001b[0m\n\u001b[1;32m    189\u001b[0m         \u001b[0;32mif\u001b[0m \u001b[0;32mnot\u001b[0m \u001b[0mskipCheck\u001b[0m\u001b[0;34m:\u001b[0m\u001b[0;34m\u001b[0m\u001b[0;34m\u001b[0m\u001b[0m\n\u001b[0;32m--> 190\u001b[0;31m             \u001b[0mself\u001b[0m\u001b[0;34m.\u001b[0m\u001b[0m_errorCheck\u001b[0m\u001b[0;34m(\u001b[0m\u001b[0mres\u001b[0m\u001b[0;34m)\u001b[0m\u001b[0;34m\u001b[0m\u001b[0;34m\u001b[0m\u001b[0m\n\u001b[0m\u001b[1;32m    191\u001b[0m         \u001b[0;32mif\u001b[0m \u001b[0;32mnot\u001b[0m \u001b[0mresKey\u001b[0m\u001b[0;34m:\u001b[0m\u001b[0;34m\u001b[0m\u001b[0;34m\u001b[0m\u001b[0m\n\u001b[1;32m    192\u001b[0m             \u001b[0;32mif\u001b[0m \u001b[0mself\u001b[0m\u001b[0;34m.\u001b[0m\u001b[0mdebug\u001b[0m\u001b[0;34m:\u001b[0m\u001b[0;34m\u001b[0m\u001b[0;34m\u001b[0m\u001b[0m\n",
      "\u001b[0;32m~/opt/anaconda3/envs/provider-sim/lib/python3.7/site-packages/pyTigerGraph/pyTigerGraph.py\u001b[0m in \u001b[0;36m_errorCheck\u001b[0;34m(self, res)\u001b[0m\n\u001b[1;32m    132\u001b[0m         \u001b[0;32mif\u001b[0m \u001b[0;34m\"error\"\u001b[0m \u001b[0;32min\u001b[0m \u001b[0mres\u001b[0m \u001b[0;32mand\u001b[0m \u001b[0mres\u001b[0m\u001b[0;34m[\u001b[0m\u001b[0;34m\"error\"\u001b[0m\u001b[0;34m]\u001b[0m \u001b[0;32mand\u001b[0m \u001b[0mres\u001b[0m\u001b[0;34m[\u001b[0m\u001b[0;34m\"error\"\u001b[0m\u001b[0;34m]\u001b[0m \u001b[0;34m!=\u001b[0m \u001b[0;34m\"false\"\u001b[0m\u001b[0;34m:\u001b[0m\u001b[0;34m\u001b[0m\u001b[0;34m\u001b[0m\u001b[0m\n\u001b[1;32m    133\u001b[0m             \u001b[0;31m# Endpoint might return string \"false\" rather than Boolean false\u001b[0m\u001b[0;34m\u001b[0m\u001b[0;34m\u001b[0m\u001b[0;34m\u001b[0m\u001b[0m\n\u001b[0;32m--> 134\u001b[0;31m             \u001b[0;32mraise\u001b[0m \u001b[0mTigerGraphException\u001b[0m\u001b[0;34m(\u001b[0m\u001b[0mres\u001b[0m\u001b[0;34m[\u001b[0m\u001b[0;34m\"message\"\u001b[0m\u001b[0;34m]\u001b[0m\u001b[0;34m,\u001b[0m \u001b[0;34m(\u001b[0m\u001b[0mres\u001b[0m\u001b[0;34m[\u001b[0m\u001b[0;34m\"code\"\u001b[0m\u001b[0;34m]\u001b[0m \u001b[0;32mif\u001b[0m \u001b[0;34m\"code\"\u001b[0m \u001b[0;32min\u001b[0m \u001b[0mres\u001b[0m \u001b[0;32melse\u001b[0m \u001b[0;32mNone\u001b[0m\u001b[0;34m)\u001b[0m\u001b[0;34m)\u001b[0m\u001b[0;34m\u001b[0m\u001b[0;34m\u001b[0m\u001b[0m\n\u001b[0m\u001b[1;32m    135\u001b[0m \u001b[0;34m\u001b[0m\u001b[0m\n\u001b[1;32m    136\u001b[0m     def _req(self, method, url, authMode=\"token\", headers=None, data=None, resKey=\"results\",\n",
      "\u001b[0;31mTigerGraphException\u001b[0m: (\"The query didn't finish because it exceeded the query timeout threshold (16 seconds). Please check GSE log for license expiration and RESTPP/GPE log with request id (19.RESTPP_1_1.1638896101303.N) for details. Try increase RESTPP.Factory.DefaultLoadingTimeoutSec or add header GSQL-TIMEOUT to override default system timeout. \", 'REST-3002')"
     ]
    }
   ],
   "metadata": {}
  },
  {
   "cell_type": "code",
   "execution_count": null,
   "source": [],
   "outputs": [],
   "metadata": {}
  }
 ],
 "metadata": {
  "orig_nbformat": 4,
  "language_info": {
   "name": "python",
   "version": "3.7.11",
   "mimetype": "text/x-python",
   "codemirror_mode": {
    "name": "ipython",
    "version": 3
   },
   "pygments_lexer": "ipython3",
   "nbconvert_exporter": "python",
   "file_extension": ".py"
  },
  "kernelspec": {
   "name": "python3",
   "display_name": "Python 3.7.11 64-bit ('provider-sim': conda)"
  },
  "interpreter": {
   "hash": "ce5add57b314278b47bc020a645e44cc088be599e679d6c675c1ea6c78a6ea7c"
  }
 },
 "nbformat": 4,
 "nbformat_minor": 2
}