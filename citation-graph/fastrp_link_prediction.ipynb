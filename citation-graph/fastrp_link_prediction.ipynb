{
 "cells": [
  {
   "cell_type": "code",
   "execution_count": 1,
   "source": [
    "import pyTigerGraph as tg\n",
    "import numpy as np\n",
    "import pandas as pd\n",
    "from sklearn.linear_model import LogisticRegression\n",
    "import sklearn"
   ],
   "outputs": [],
   "metadata": {}
  },
  {
   "cell_type": "code",
   "execution_count": 2,
   "source": [
    "conn = tg.TigerGraphConnection(graphname=\"SCOTUS_Graph\")"
   ],
   "outputs": [],
   "metadata": {}
  },
  {
   "cell_type": "code",
   "execution_count": 3,
   "source": [
    "with open(\"../graph_creation/gsql/queries/tg_fastRP.gsql\", \"r\") as f:\n",
    "    fast_rp_query = f.read()"
   ],
   "outputs": [],
   "metadata": {}
  },
  {
   "cell_type": "code",
   "execution_count": 4,
   "source": [
    "def constructParamUrl(v_types, e_types, params):\n",
    "    paramUrl = \"\"\n",
    "    for vType in v_types:\n",
    "        paramUrl += (\"v_type=\"+vType+\"&\")\n",
    "    for eType in e_types:\n",
    "        paramUrl += (\"e_type=\"+eType+\"&\")\n",
    "    for p in params.keys():\n",
    "        paramUrl += (p+\"=\"+str(params[p])+\"&\")\n",
    "    paramUrl = paramUrl[:-1]\n",
    "    return paramUrl"
   ],
   "outputs": [],
   "metadata": {}
  },
  {
   "cell_type": "code",
   "execution_count": 5,
   "source": [
    "params = {\n",
    "    \"weights\":\"2,3,4\",\n",
    "    \"beta\":-0.1387,\n",
    "    \"k\":1,\n",
    "    \"reduced_dim\":512, \n",
    "    \"sampling_constant\":3,\n",
    "    \"random_seed\":42, \n",
    "    \"result_attr\":\"embedding\"\n",
    "}\n",
    "\n",
    "transform = \"concat\"\n",
    "\n",
    "edgeTypes = conn.getEdgeTypes() + [\"STATE_CONTAINS_PETITIONER\", \n",
    "                                   \"STATE_CONTAINS_RESPONDENT\", \"PETITIONER_TYPE_IN_CASE\", \n",
    "                                   \"RESPONDENT_TYPE_IN_CASE\", \"ORIGIN_OF_CASE\",\n",
    "                                   \"STATE_ORIGIN_OF_CASE\", \"ISSUE_OF_CASE\",\n",
    "                                   \"AREA_CONTAINS_ISSUE\", \"VOTED_CONSERVATIVE\",\n",
    "                                   \"VOTED_LIBERAL\"]  # Have to get reverse edges too, except CITED_BY, which would be forward-looking\n",
    "\n",
    "vertexTypes = conn.getVertexTypes()\n",
    "\n",
    "labels = {\"LIBERAL_VOTE\": 1,\n",
    "          \"CONSERVATIVE_VOTE\": 0}\n",
    "\n",
    "justices = conn.getVertices(\"Justice\")\n",
    "justices = [x[\"v_id\"] for x in justices]"
   ],
   "outputs": [],
   "metadata": {}
  },
  {
   "cell_type": "code",
   "execution_count": 6,
   "source": [
    "paramUrl = constructParamUrl(vertexTypes, edgeTypes, params)\n",
    "conn.gsql(\"USE GRAPH \"+conn.graphname+\"\\n\"+\"DROP QUERY tg_fastRP\")\n",
    "queryDef = \"USE GRAPH \"+conn.graphname+\"\\n\"+fast_rp_query.replace(\"@embedding_dim@\", str(params[\"reduced_dim\"]))\n",
    "conn.gsql(queryDef)\n",
    "conn.runInstalledQuery(\"tg_weighted_fastRP\", params=paramUrl, timeout=512_000)"
   ],
   "outputs": [
    {
     "output_type": "execute_result",
     "data": {
      "text/plain": [
       "[]"
      ]
     },
     "metadata": {},
     "execution_count": 6
    }
   ],
   "metadata": {}
  },
  {
   "cell_type": "code",
   "execution_count": 7,
   "source": [
    "def createTransform(X, embedding_dim=200, method=\"L2\"):\n",
    "    case = X[:,:embedding_dim]\n",
    "    justice = X[:,embedding_dim:]\n",
    "    if method == \"L2\":\n",
    "        return (case-justice)**2\n",
    "    elif method == \"hadamard\":\n",
    "        return np.multiply(case, justice)\n",
    "    elif method == \"L1\":\n",
    "        return np.abs(case-justice)\n",
    "    elif method == \"avg\":\n",
    "        return (case+justice)/2\n",
    "    elif method == \"concat\":\n",
    "        return X\n",
    "    else:\n",
    "        raise(\"Invalid transform method\")"
   ],
   "outputs": [],
   "metadata": {}
  },
  {
   "cell_type": "code",
   "execution_count": 13,
   "source": [
    "def createTrainData(justices, embeddingDim):\n",
    "    Xdata = []\n",
    "    ydata = []\n",
    "    for justice in justices:\n",
    "        res = conn.runInstalledQuery(\"justiceCaseLinks\", params={\"justiceID\": int(justice), \"train\":True})\n",
    "        caseEmbeddings = pd.DataFrame.from_dict(res[0][\"@@caseEmbeddings\"], orient=\"index\").reset_index().rename(columns={\"index\":\"caseId\"})\n",
    "        caseVotes = pd.DataFrame.from_dict(res[0][\"@@caseVote\"], orient=\"index\").reset_index().rename(columns={\"index\":\"caseId\", 0:\"vote\"})\n",
    "        train_data = caseVotes.merge(caseEmbeddings, on=\"caseId\")\n",
    "        res = conn.runInstalledQuery(\"justiceCaseLinks\", params={\"justiceID\": int(justice), \"valid\":True})\n",
    "        caseEmbeddings = pd.DataFrame.from_dict(res[0][\"@@caseEmbeddings\"], orient=\"index\").reset_index().rename(columns={\"index\":\"caseId\"})\n",
    "        caseVotes = pd.DataFrame.from_dict(res[0][\"@@caseVote\"], orient=\"index\").reset_index().rename(columns={\"index\":\"caseId\", 0:\"vote\"})\n",
    "        valid_data = caseVotes.merge(caseEmbeddings, on=\"caseId\")\n",
    "        data = pd.concat([train_data, valid_data])\n",
    "        justiceEmbedding = pd.DataFrame.from_dict(res[0][\"@@justiceEmbedding\"], orient=\"index\").reset_index().rename(columns={\"index\":\"justice\"})\n",
    "        X = data[[i for i in range(0,embeddingDim)]].values\n",
    "        je = justiceEmbedding[[i for i in range(0,embeddingDim)]].values\n",
    "        je = np.tile(je, (X.shape[0], 1))\n",
    "        X = np.append(X, je, axis=1)\n",
    "        y = np.array([labels[x] for x in data[\"vote\"]])\n",
    "        Xdata.append(X)\n",
    "        ydata.append(y)\n",
    "    return np.concatenate(Xdata), np.concatenate(ydata)"
   ],
   "outputs": [],
   "metadata": {}
  },
  {
   "cell_type": "code",
   "execution_count": 14,
   "source": [
    "def createTestData(justices, embeddingDim):\n",
    "    Xdata = []\n",
    "    ydata = []\n",
    "    for justice in justices:\n",
    "        res = conn.runInstalledQuery(\"justiceCaseLinks\", params={\"justiceID\": int(justice), \"test\":True})\n",
    "        caseEmbeddings = pd.DataFrame.from_dict(res[0][\"@@caseEmbeddings\"], orient=\"index\").reset_index().rename(columns={\"index\":\"caseId\"})\n",
    "        caseVotes = pd.DataFrame.from_dict(res[0][\"@@caseVote\"], orient=\"index\").reset_index().rename(columns={\"index\":\"caseId\", 0:\"vote\"})\n",
    "        data = caseVotes.merge(caseEmbeddings, on=\"caseId\")\n",
    "        justiceEmbedding = pd.DataFrame.from_dict(res[0][\"@@justiceEmbedding\"], orient=\"index\").reset_index().rename(columns={\"index\":\"justice\"})\n",
    "        X = data[[i for i in range(0,embeddingDim)]].values\n",
    "        je = justiceEmbedding[[i for i in range(0,embeddingDim)]].values\n",
    "        je = np.tile(je, (X.shape[0], 1))\n",
    "        X = np.append(X, je, axis=1)\n",
    "        y = np.array([labels[x] for x in data[\"vote\"]])\n",
    "        Xdata.append(X)\n",
    "        ydata.append(y)\n",
    "    return np.concatenate(Xdata), np.concatenate(ydata)"
   ],
   "outputs": [],
   "metadata": {}
  },
  {
   "cell_type": "code",
   "execution_count": 16,
   "source": [
    "X_train, y_train = createTrainData(justices, params[\"reduced_dim\"])\n",
    "X_train = createTransform(X_train, params[\"reduced_dim\"], transform)\n",
    "X_test, y_test = createTestData(justices, params[\"reduced_dim\"])\n",
    "X_test = createTransform(X_test, params[\"reduced_dim\"], transform)\n",
    "clf = LogisticRegression(solver=\"lbfgs\", max_iter=1000)\n",
    "clf.fit(X_train, y_train)\n",
    "accuracy = clf.score(X_test, y_test)"
   ],
   "outputs": [],
   "metadata": {}
  },
  {
   "cell_type": "code",
   "execution_count": 17,
   "source": [
    "from sklearn.metrics import classification_report\n",
    "\n",
    "print(classification_report(y_test, clf.predict(X_test)))"
   ],
   "outputs": [
    {
     "output_type": "stream",
     "name": "stdout",
     "text": [
      "              precision    recall  f1-score   support\n",
      "\n",
      "           0       0.62      0.62      0.62      7267\n",
      "           1       0.66      0.66      0.66      8090\n",
      "\n",
      "    accuracy                           0.64     15357\n",
      "   macro avg       0.64      0.64      0.64     15357\n",
      "weighted avg       0.64      0.64      0.64     15357\n",
      "\n"
     ]
    }
   ],
   "metadata": {}
  },
  {
   "cell_type": "code",
   "execution_count": 18,
   "source": [
    "print(accuracy)"
   ],
   "outputs": [
    {
     "output_type": "stream",
     "name": "stdout",
     "text": [
      "0.6415966660154978\n"
     ]
    }
   ],
   "metadata": {}
  },
  {
   "cell_type": "code",
   "execution_count": 23,
   "source": [
    "from sklearn.metrics import confusion_matrix, ConfusionMatrixDisplay\n",
    "cm = confusion_matrix(y_test, clf.predict(X_test))"
   ],
   "outputs": [],
   "metadata": {}
  },
  {
   "cell_type": "code",
   "execution_count": 28,
   "source": [
    "disp = ConfusionMatrixDisplay(confusion_matrix=cm, display_labels=labels)"
   ],
   "outputs": [
    {
     "output_type": "error",
     "ename": "TypeError",
     "evalue": "__init__() got an unexpected keyword argument 'cmap'",
     "traceback": [
      "\u001b[0;31m---------------------------------------------------------------------------\u001b[0m",
      "\u001b[0;31mTypeError\u001b[0m                                 Traceback (most recent call last)",
      "\u001b[0;32m/var/folders/bk/c67_d2zd7cgbq4h3lpcfkjym0000gn/T/ipykernel_76237/2886223529.py\u001b[0m in \u001b[0;36m<module>\u001b[0;34m\u001b[0m\n\u001b[0;32m----> 1\u001b[0;31m \u001b[0mdisp\u001b[0m \u001b[0;34m=\u001b[0m \u001b[0mConfusionMatrixDisplay\u001b[0m\u001b[0;34m(\u001b[0m\u001b[0mconfusion_matrix\u001b[0m\u001b[0;34m=\u001b[0m\u001b[0mcm\u001b[0m\u001b[0;34m,\u001b[0m \u001b[0mdisplay_labels\u001b[0m\u001b[0;34m=\u001b[0m\u001b[0mlabels\u001b[0m\u001b[0;34m,\u001b[0m \u001b[0mcmap\u001b[0m\u001b[0;34m=\u001b[0m\u001b[0;34m'hot'\u001b[0m\u001b[0;34m)\u001b[0m\u001b[0;34m\u001b[0m\u001b[0;34m\u001b[0m\u001b[0m\n\u001b[0m",
      "\u001b[0;31mTypeError\u001b[0m: __init__() got an unexpected keyword argument 'cmap'"
     ]
    }
   ],
   "metadata": {}
  },
  {
   "cell_type": "code",
   "execution_count": 38,
   "source": [
    "disp.plot(cmap='RdBu')"
   ],
   "outputs": [
    {
     "output_type": "execute_result",
     "data": {
      "text/plain": [
       "<sklearn.metrics._plot.confusion_matrix.ConfusionMatrixDisplay at 0x7f9ed09c68d0>"
      ]
     },
     "metadata": {},
     "execution_count": 38
    },
    {
     "output_type": "display_data",
     "data": {
      "image/png": "[encoded data removed]",
      "text/plain": [
       "<Figure size 432x288 with 2 Axes>"
      ]
     },
     "metadata": {
      "needs_background": "light"
     }
    }
   ],
   "metadata": {}
  },
  {
   "cell_type": "code",
   "execution_count": null,
   "source": [],
   "outputs": [],
   "metadata": {}
  }
 ],
 "metadata": {
  "kernelspec": {
   "name": "python3",
   "display_name": "Python 3.7.11 64-bit ('scotus': conda)"
  },
  "language_info": {
   "codemirror_mode": {
    "name": "ipython",
    "version": 3
   },
   "file_extension": ".py",
   "mimetype": "text/x-python",
   "name": "python",
   "nbconvert_exporter": "python",
   "pygments_lexer": "ipython3",
   "version": "3.7.11"
  },
  "interpreter": {
   "hash": "c7d6c6bf3a9871602155f511049beaabedd6a9be8dcd8fb85b899fcd7dc30501"
  }
 },
 "nbformat": 4,
 "nbformat_minor": 5
}