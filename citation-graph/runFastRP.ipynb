{
 "cells": [
  {
   "cell_type": "code",
   "execution_count": 1,
   "metadata": {},
   "outputs": [],
   "source": [
    "import pyTigerGraph as tg \n",
    "conn = tg.TigerGraphConnection(graphname=\"SCOTUS_Graph\")"
   ]
  },
  {
   "cell_type": "code",
   "execution_count": 2,
   "metadata": {},
   "outputs": [],
   "source": [
    "edgeTypes = conn.getEdgeTypes() + [\"CITED_BY\", \"STATE_CONTAINS_PETITIONER\", \n",
    "                                   \"STATE_CONTAINS_RESPONDENT\", \"PETITIONER_TYPE_IN_CASE\", \n",
    "                                   \"RESPONDENT_TYPE_IN_CASE\", \"ORIGIN_OF_CASE\",\n",
    "                                   \"STATE_ORIGIN_OF_CASE\", \"ISSUE_OF_CASE\",\n",
    "                                   \"AREA_CONTAINS_ISSUE\", \"VOTED_CONSERVATIVE\",\n",
    "                                   \"VOTED_LIBERAL\"]"
   ]
  },
  {
   "cell_type": "code",
   "execution_count": 3,
   "metadata": {},
   "outputs": [],
   "source": [
    "vertexTypes = conn.getVertexTypes()"
   ]
  },
  {
   "cell_type": "code",
   "execution_count": 4,
   "metadata": {},
   "outputs": [],
   "source": [
    "def constructParamUrl(v_types, e_types, params):\n",
    "    paramUrl = \"\"\n",
    "    for vType in v_types:\n",
    "        paramUrl += (\"v_type=\"+vType+\"&\")\n",
    "    for eType in e_types:\n",
    "        paramUrl += (\"e_type=\"+eType+\"&\")\n",
    "    for p in params.keys():\n",
    "        paramUrl += (p+\"=\"+str(params[p])+\"&\")\n",
    "    paramUrl = paramUrl[:-1]\n",
    "    return paramUrl"
   ]
  },
  {
   "cell_type": "code",
   "execution_count": 5,
   "metadata": {},
   "outputs": [],
   "source": [
    "params = {\n",
    "    \"weights\":\"4,2,1\",\n",
    "    \"beta\":-0.5,\n",
    "    \"k\":3,\n",
    "    \"reduced_dim\":200, \n",
    "    \"sampling_constant\":3,\n",
    "    \"random_seed\":42, \n",
    "    \"result_attr\":\"embedding\"\n",
    "}\n",
    "\n",
    "paramUrl = constructParamUrl(vertexTypes, edgeTypes, params)"
   ]
  },
  {
   "cell_type": "code",
   "execution_count": 6,
   "metadata": {},
   "outputs": [
    {
     "data": {
      "text/plain": [
       "[]"
      ]
     },
     "execution_count": 6,
     "metadata": {},
     "output_type": "execute_result"
    }
   ],
   "source": [
    "conn.runInstalledQuery(\"tg_weighted_fastRP\", params=paramUrl, timeout=128_000)"
   ]
  },
  {
   "cell_type": "code",
   "execution_count": null,
   "metadata": {},
   "outputs": [],
   "source": []
  }
 ],
 "metadata": {
  "interpreter": {
   "hash": "c7d6c6bf3a9871602155f511049beaabedd6a9be8dcd8fb85b899fcd7dc30501"
  },
  "kernelspec": {
   "display_name": "Python 3 (TG+PyG)",
   "language": "python",
   "name": "python3"
  },
  "language_info": {
   "codemirror_mode": {
    "name": "ipython",
    "version": 3
   },
   "file_extension": ".py",
   "mimetype": "text/x-python",
   "name": "python",
   "nbconvert_exporter": "python",
   "pygments_lexer": "ipython3",
   "version": "3.9.7"
  }
 },
 "nbformat": 4,
 "nbformat_minor": 4
}
