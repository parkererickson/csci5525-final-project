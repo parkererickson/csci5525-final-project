{
 "cells": [
  {
   "cell_type": "code",
   "execution_count": 1,
   "source": [
    "import pyTigerGraph as tg \n",
    "conn = tg.TigerGraphConnection(graphname=\"SCOTUS_Graph\")"
   ],
   "outputs": [],
   "metadata": {}
  },
  {
   "cell_type": "code",
   "execution_count": 2,
   "source": [
    "edgeTypes = conn.getEdgeTypes() + [\"CITED_BY\", \"STATE_CONTAINS_PETITIONER\", \n",
    "                                   \"STATE_CONTAINS_RESPONDENT\", \"PETITIONER_TYPE_IN_CASE\", \n",
    "                                   \"RESPONDENT_TYPE_IN_CASE\", \"ORIGIN_OF_CASE\",\n",
    "                                   \"STATE_ORIGIN_OF_CASE\", \"ISSUE_OF_CASE\",\n",
    "                                   \"AREA_CONTAINS_ISSUE\", \"VOTE_IN_FAVOR_OF_DEFENDANT\",\n",
    "                                   \"VOTE_IN_FAVOR_OF_PETITIONER\"]"
   ],
   "outputs": [],
   "metadata": {}
  },
  {
   "cell_type": "code",
   "execution_count": 3,
   "source": [
    "vertexTypes = conn.getVertexTypes()"
   ],
   "outputs": [],
   "metadata": {}
  },
  {
   "cell_type": "code",
   "execution_count": 4,
   "source": [
    "def constructParamUrl(v_types, e_types, params):\n",
    "    paramUrl = \"\"\n",
    "    for vType in v_types:\n",
    "        paramUrl += (\"v_type=\"+vType+\"&\")\n",
    "    for eType in e_types:\n",
    "        paramUrl += (\"e_type=\"+eType+\"&\")\n",
    "    for p in params.keys():\n",
    "        paramUrl += (p+\"=\"+str(params[p])+\"&\")\n",
    "    paramUrl = paramUrl[:-1]\n",
    "    return paramUrl"
   ],
   "outputs": [],
   "metadata": {}
  },
  {
   "cell_type": "code",
   "execution_count": 5,
   "source": [
    "params = {\n",
    "    \"weights\":\"1,2,4\",\n",
    "    \"beta\":-0.1,\n",
    "    \"k\":3,\n",
    "    \"reduced_dim\":200, \n",
    "    \"sampling_constant\":3,\n",
    "    \"random_seed\":42, \n",
    "    \"result_attr\":\"embedding\"\n",
    "}\n",
    "\n",
    "paramUrl = constructParamUrl(vertexTypes, edgeTypes, params)"
   ],
   "outputs": [],
   "metadata": {}
  },
  {
   "cell_type": "code",
   "execution_count": 6,
   "source": [
    "conn.runInstalledQuery(\"tg_fastRP\", params=paramUrl, timeout=128_000)"
   ],
   "outputs": [
    {
     "output_type": "execute_result",
     "data": {
      "text/plain": [
       "[]"
      ]
     },
     "metadata": {},
     "execution_count": 6
    }
   ],
   "metadata": {}
  },
  {
   "cell_type": "code",
   "execution_count": null,
   "source": [],
   "outputs": [],
   "metadata": {}
  }
 ],
 "metadata": {
  "orig_nbformat": 4,
  "language_info": {
   "name": "python",
   "version": "3.7.11",
   "mimetype": "text/x-python",
   "codemirror_mode": {
    "name": "ipython",
    "version": 3
   },
   "pygments_lexer": "ipython3",
   "nbconvert_exporter": "python",
   "file_extension": ".py"
  },
  "kernelspec": {
   "name": "python3",
   "display_name": "Python 3.7.11 64-bit ('scotus': conda)"
  },
  "interpreter": {
   "hash": "c7d6c6bf3a9871602155f511049beaabedd6a9be8dcd8fb85b899fcd7dc30501"
  }
 },
 "nbformat": 4,
 "nbformat_minor": 2
}