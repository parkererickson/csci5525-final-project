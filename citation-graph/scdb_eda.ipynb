{
 "cells": [
  {
   "cell_type": "code",
   "execution_count": 1,
   "source": [
    "import pandas as pd\n",
    "\n",
    "df = pd.read_csv(\"SCDB_2021_01_justiceCentered_Citation.csv\", encoding = \"ISO-8859-1\")"
   ],
   "outputs": [],
   "metadata": {}
  },
  {
   "cell_type": "code",
   "execution_count": 2,
   "source": [
    "df.head()"
   ],
   "outputs": [
    {
     "output_type": "execute_result",
     "data": {
      "text/html": [
       "<div>\n",
       "<style scoped>\n",
       "    .dataframe tbody tr th:only-of-type {\n",
       "        vertical-align: middle;\n",
       "    }\n",
       "\n",
       "    .dataframe tbody tr th {\n",
       "        vertical-align: top;\n",
       "    }\n",
       "\n",
       "    .dataframe thead th {\n",
       "        text-align: right;\n",
       "    }\n",
       "</style>\n",
       "<table border=\"1\" class=\"dataframe\">\n",
       "  <thead>\n",
       "    <tr style=\"text-align: right;\">\n",
       "      <th></th>\n",
       "      <th>caseId</th>\n",
       "      <th>docketId</th>\n",
       "      <th>caseIssuesId</th>\n",
       "      <th>voteId</th>\n",
       "      <th>dateDecision</th>\n",
       "      <th>decisionType</th>\n",
       "      <th>usCite</th>\n",
       "      <th>sctCite</th>\n",
       "      <th>ledCite</th>\n",
       "      <th>lexisCite</th>\n",
       "      <th>...</th>\n",
       "      <th>majVotes</th>\n",
       "      <th>minVotes</th>\n",
       "      <th>justice</th>\n",
       "      <th>justiceName</th>\n",
       "      <th>vote</th>\n",
       "      <th>opinion</th>\n",
       "      <th>direction</th>\n",
       "      <th>majority</th>\n",
       "      <th>firstAgreement</th>\n",
       "      <th>secondAgreement</th>\n",
       "    </tr>\n",
       "  </thead>\n",
       "  <tbody>\n",
       "    <tr>\n",
       "      <th>0</th>\n",
       "      <td>1946-001</td>\n",
       "      <td>1946-001-01</td>\n",
       "      <td>1946-001-01-01</td>\n",
       "      <td>1946-001-01-01-01-01</td>\n",
       "      <td>11/18/1946</td>\n",
       "      <td>1</td>\n",
       "      <td>329 U.S. 1</td>\n",
       "      <td>67 S. Ct. 6</td>\n",
       "      <td>91 L. Ed. 3</td>\n",
       "      <td>1946 U.S. LEXIS 1724</td>\n",
       "      <td>...</td>\n",
       "      <td>8</td>\n",
       "      <td>1</td>\n",
       "      <td>86</td>\n",
       "      <td>HHBurton</td>\n",
       "      <td>2.0</td>\n",
       "      <td>1.0</td>\n",
       "      <td>1.0</td>\n",
       "      <td>1.0</td>\n",
       "      <td>NaN</td>\n",
       "      <td>NaN</td>\n",
       "    </tr>\n",
       "    <tr>\n",
       "      <th>1</th>\n",
       "      <td>1946-001</td>\n",
       "      <td>1946-001-01</td>\n",
       "      <td>1946-001-01-01</td>\n",
       "      <td>1946-001-01-01-01-02</td>\n",
       "      <td>11/18/1946</td>\n",
       "      <td>1</td>\n",
       "      <td>329 U.S. 1</td>\n",
       "      <td>67 S. Ct. 6</td>\n",
       "      <td>91 L. Ed. 3</td>\n",
       "      <td>1946 U.S. LEXIS 1724</td>\n",
       "      <td>...</td>\n",
       "      <td>8</td>\n",
       "      <td>1</td>\n",
       "      <td>84</td>\n",
       "      <td>RHJackson</td>\n",
       "      <td>1.0</td>\n",
       "      <td>1.0</td>\n",
       "      <td>2.0</td>\n",
       "      <td>2.0</td>\n",
       "      <td>NaN</td>\n",
       "      <td>NaN</td>\n",
       "    </tr>\n",
       "    <tr>\n",
       "      <th>2</th>\n",
       "      <td>1946-001</td>\n",
       "      <td>1946-001-01</td>\n",
       "      <td>1946-001-01-01</td>\n",
       "      <td>1946-001-01-01-01-03</td>\n",
       "      <td>11/18/1946</td>\n",
       "      <td>1</td>\n",
       "      <td>329 U.S. 1</td>\n",
       "      <td>67 S. Ct. 6</td>\n",
       "      <td>91 L. Ed. 3</td>\n",
       "      <td>1946 U.S. LEXIS 1724</td>\n",
       "      <td>...</td>\n",
       "      <td>8</td>\n",
       "      <td>1</td>\n",
       "      <td>81</td>\n",
       "      <td>WODouglas</td>\n",
       "      <td>1.0</td>\n",
       "      <td>1.0</td>\n",
       "      <td>2.0</td>\n",
       "      <td>2.0</td>\n",
       "      <td>NaN</td>\n",
       "      <td>NaN</td>\n",
       "    </tr>\n",
       "    <tr>\n",
       "      <th>3</th>\n",
       "      <td>1946-001</td>\n",
       "      <td>1946-001-01</td>\n",
       "      <td>1946-001-01-01</td>\n",
       "      <td>1946-001-01-01-01-04</td>\n",
       "      <td>11/18/1946</td>\n",
       "      <td>1</td>\n",
       "      <td>329 U.S. 1</td>\n",
       "      <td>67 S. Ct. 6</td>\n",
       "      <td>91 L. Ed. 3</td>\n",
       "      <td>1946 U.S. LEXIS 1724</td>\n",
       "      <td>...</td>\n",
       "      <td>8</td>\n",
       "      <td>1</td>\n",
       "      <td>80</td>\n",
       "      <td>FFrankfurter</td>\n",
       "      <td>4.0</td>\n",
       "      <td>2.0</td>\n",
       "      <td>2.0</td>\n",
       "      <td>2.0</td>\n",
       "      <td>NaN</td>\n",
       "      <td>NaN</td>\n",
       "    </tr>\n",
       "    <tr>\n",
       "      <th>4</th>\n",
       "      <td>1946-001</td>\n",
       "      <td>1946-001-01</td>\n",
       "      <td>1946-001-01-01</td>\n",
       "      <td>1946-001-01-01-01-05</td>\n",
       "      <td>11/18/1946</td>\n",
       "      <td>1</td>\n",
       "      <td>329 U.S. 1</td>\n",
       "      <td>67 S. Ct. 6</td>\n",
       "      <td>91 L. Ed. 3</td>\n",
       "      <td>1946 U.S. LEXIS 1724</td>\n",
       "      <td>...</td>\n",
       "      <td>8</td>\n",
       "      <td>1</td>\n",
       "      <td>79</td>\n",
       "      <td>SFReed</td>\n",
       "      <td>1.0</td>\n",
       "      <td>1.0</td>\n",
       "      <td>2.0</td>\n",
       "      <td>2.0</td>\n",
       "      <td>NaN</td>\n",
       "      <td>NaN</td>\n",
       "    </tr>\n",
       "  </tbody>\n",
       "</table>\n",
       "<p>5 rows × 61 columns</p>\n",
       "</div>"
      ],
      "text/plain": [
       "     caseId     docketId    caseIssuesId                voteId dateDecision  \\\n",
       "0  1946-001  1946-001-01  1946-001-01-01  1946-001-01-01-01-01   11/18/1946   \n",
       "1  1946-001  1946-001-01  1946-001-01-01  1946-001-01-01-01-02   11/18/1946   \n",
       "2  1946-001  1946-001-01  1946-001-01-01  1946-001-01-01-01-03   11/18/1946   \n",
       "3  1946-001  1946-001-01  1946-001-01-01  1946-001-01-01-01-04   11/18/1946   \n",
       "4  1946-001  1946-001-01  1946-001-01-01  1946-001-01-01-01-05   11/18/1946   \n",
       "\n",
       "   decisionType      usCite      sctCite      ledCite             lexisCite  \\\n",
       "0             1  329 U.S. 1  67 S. Ct. 6  91 L. Ed. 3  1946 U.S. LEXIS 1724   \n",
       "1             1  329 U.S. 1  67 S. Ct. 6  91 L. Ed. 3  1946 U.S. LEXIS 1724   \n",
       "2             1  329 U.S. 1  67 S. Ct. 6  91 L. Ed. 3  1946 U.S. LEXIS 1724   \n",
       "3             1  329 U.S. 1  67 S. Ct. 6  91 L. Ed. 3  1946 U.S. LEXIS 1724   \n",
       "4             1  329 U.S. 1  67 S. Ct. 6  91 L. Ed. 3  1946 U.S. LEXIS 1724   \n",
       "\n",
       "   ...  majVotes  minVotes justice   justiceName vote opinion direction  \\\n",
       "0  ...         8         1      86      HHBurton  2.0     1.0       1.0   \n",
       "1  ...         8         1      84     RHJackson  1.0     1.0       2.0   \n",
       "2  ...         8         1      81     WODouglas  1.0     1.0       2.0   \n",
       "3  ...         8         1      80  FFrankfurter  4.0     2.0       2.0   \n",
       "4  ...         8         1      79        SFReed  1.0     1.0       2.0   \n",
       "\n",
       "   majority  firstAgreement  secondAgreement  \n",
       "0       1.0             NaN              NaN  \n",
       "1       2.0             NaN              NaN  \n",
       "2       2.0             NaN              NaN  \n",
       "3       2.0             NaN              NaN  \n",
       "4       2.0             NaN              NaN  \n",
       "\n",
       "[5 rows x 61 columns]"
      ]
     },
     "metadata": {},
     "execution_count": 2
    }
   ],
   "metadata": {}
  },
  {
   "cell_type": "code",
   "execution_count": 3,
   "source": [
    "df.columns"
   ],
   "outputs": [
    {
     "output_type": "execute_result",
     "data": {
      "text/plain": [
       "Index(['caseId', 'docketId', 'caseIssuesId', 'voteId', 'dateDecision',\n",
       "       'decisionType', 'usCite', 'sctCite', 'ledCite', 'lexisCite', 'term',\n",
       "       'naturalCourt', 'chief', 'docket', 'caseName', 'dateArgument',\n",
       "       'dateRearg', 'petitioner', 'petitionerState', 'respondent',\n",
       "       'respondentState', 'jurisdiction', 'adminAction', 'adminActionState',\n",
       "       'threeJudgeFdc', 'caseOrigin', 'caseOriginState', 'caseSource',\n",
       "       'caseSourceState', 'lcDisagreement', 'certReason', 'lcDisposition',\n",
       "       'lcDispositionDirection', 'declarationUncon', 'caseDisposition',\n",
       "       'caseDispositionUnusual', 'partyWinning', 'precedentAlteration',\n",
       "       'voteUnclear', 'issue', 'issueArea', 'decisionDirection',\n",
       "       'decisionDirectionDissent', 'authorityDecision1', 'authorityDecision2',\n",
       "       'lawType', 'lawSupp', 'lawMinor', 'majOpinWriter', 'majOpinAssigner',\n",
       "       'splitVote', 'majVotes', 'minVotes', 'justice', 'justiceName', 'vote',\n",
       "       'opinion', 'direction', 'majority', 'firstAgreement',\n",
       "       'secondAgreement'],\n",
       "      dtype='object')"
      ]
     },
     "metadata": {},
     "execution_count": 3
    }
   ],
   "metadata": {}
  },
  {
   "cell_type": "code",
   "execution_count": 4,
   "source": [
    "df[\"partyWinning\"] = df[\"partyWinning\"].apply(lambda x: \"plaintiff\" if x == 1 else \"defendant\")"
   ],
   "outputs": [],
   "metadata": {}
  },
  {
   "cell_type": "code",
   "execution_count": 5,
   "source": [
    "df.head()"
   ],
   "outputs": [
    {
     "output_type": "execute_result",
     "data": {
      "text/html": [
       "<div>\n",
       "<style scoped>\n",
       "    .dataframe tbody tr th:only-of-type {\n",
       "        vertical-align: middle;\n",
       "    }\n",
       "\n",
       "    .dataframe tbody tr th {\n",
       "        vertical-align: top;\n",
       "    }\n",
       "\n",
       "    .dataframe thead th {\n",
       "        text-align: right;\n",
       "    }\n",
       "</style>\n",
       "<table border=\"1\" class=\"dataframe\">\n",
       "  <thead>\n",
       "    <tr style=\"text-align: right;\">\n",
       "      <th></th>\n",
       "      <th>caseId</th>\n",
       "      <th>docketId</th>\n",
       "      <th>caseIssuesId</th>\n",
       "      <th>voteId</th>\n",
       "      <th>dateDecision</th>\n",
       "      <th>decisionType</th>\n",
       "      <th>usCite</th>\n",
       "      <th>sctCite</th>\n",
       "      <th>ledCite</th>\n",
       "      <th>lexisCite</th>\n",
       "      <th>...</th>\n",
       "      <th>majVotes</th>\n",
       "      <th>minVotes</th>\n",
       "      <th>justice</th>\n",
       "      <th>justiceName</th>\n",
       "      <th>vote</th>\n",
       "      <th>opinion</th>\n",
       "      <th>direction</th>\n",
       "      <th>majority</th>\n",
       "      <th>firstAgreement</th>\n",
       "      <th>secondAgreement</th>\n",
       "    </tr>\n",
       "  </thead>\n",
       "  <tbody>\n",
       "    <tr>\n",
       "      <th>0</th>\n",
       "      <td>1946-001</td>\n",
       "      <td>1946-001-01</td>\n",
       "      <td>1946-001-01-01</td>\n",
       "      <td>1946-001-01-01-01-01</td>\n",
       "      <td>11/18/1946</td>\n",
       "      <td>1</td>\n",
       "      <td>329 U.S. 1</td>\n",
       "      <td>67 S. Ct. 6</td>\n",
       "      <td>91 L. Ed. 3</td>\n",
       "      <td>1946 U.S. LEXIS 1724</td>\n",
       "      <td>...</td>\n",
       "      <td>8</td>\n",
       "      <td>1</td>\n",
       "      <td>86</td>\n",
       "      <td>HHBurton</td>\n",
       "      <td>2.0</td>\n",
       "      <td>1.0</td>\n",
       "      <td>1.0</td>\n",
       "      <td>1.0</td>\n",
       "      <td>NaN</td>\n",
       "      <td>NaN</td>\n",
       "    </tr>\n",
       "    <tr>\n",
       "      <th>1</th>\n",
       "      <td>1946-001</td>\n",
       "      <td>1946-001-01</td>\n",
       "      <td>1946-001-01-01</td>\n",
       "      <td>1946-001-01-01-01-02</td>\n",
       "      <td>11/18/1946</td>\n",
       "      <td>1</td>\n",
       "      <td>329 U.S. 1</td>\n",
       "      <td>67 S. Ct. 6</td>\n",
       "      <td>91 L. Ed. 3</td>\n",
       "      <td>1946 U.S. LEXIS 1724</td>\n",
       "      <td>...</td>\n",
       "      <td>8</td>\n",
       "      <td>1</td>\n",
       "      <td>84</td>\n",
       "      <td>RHJackson</td>\n",
       "      <td>1.0</td>\n",
       "      <td>1.0</td>\n",
       "      <td>2.0</td>\n",
       "      <td>2.0</td>\n",
       "      <td>NaN</td>\n",
       "      <td>NaN</td>\n",
       "    </tr>\n",
       "    <tr>\n",
       "      <th>2</th>\n",
       "      <td>1946-001</td>\n",
       "      <td>1946-001-01</td>\n",
       "      <td>1946-001-01-01</td>\n",
       "      <td>1946-001-01-01-01-03</td>\n",
       "      <td>11/18/1946</td>\n",
       "      <td>1</td>\n",
       "      <td>329 U.S. 1</td>\n",
       "      <td>67 S. Ct. 6</td>\n",
       "      <td>91 L. Ed. 3</td>\n",
       "      <td>1946 U.S. LEXIS 1724</td>\n",
       "      <td>...</td>\n",
       "      <td>8</td>\n",
       "      <td>1</td>\n",
       "      <td>81</td>\n",
       "      <td>WODouglas</td>\n",
       "      <td>1.0</td>\n",
       "      <td>1.0</td>\n",
       "      <td>2.0</td>\n",
       "      <td>2.0</td>\n",
       "      <td>NaN</td>\n",
       "      <td>NaN</td>\n",
       "    </tr>\n",
       "    <tr>\n",
       "      <th>3</th>\n",
       "      <td>1946-001</td>\n",
       "      <td>1946-001-01</td>\n",
       "      <td>1946-001-01-01</td>\n",
       "      <td>1946-001-01-01-01-04</td>\n",
       "      <td>11/18/1946</td>\n",
       "      <td>1</td>\n",
       "      <td>329 U.S. 1</td>\n",
       "      <td>67 S. Ct. 6</td>\n",
       "      <td>91 L. Ed. 3</td>\n",
       "      <td>1946 U.S. LEXIS 1724</td>\n",
       "      <td>...</td>\n",
       "      <td>8</td>\n",
       "      <td>1</td>\n",
       "      <td>80</td>\n",
       "      <td>FFrankfurter</td>\n",
       "      <td>4.0</td>\n",
       "      <td>2.0</td>\n",
       "      <td>2.0</td>\n",
       "      <td>2.0</td>\n",
       "      <td>NaN</td>\n",
       "      <td>NaN</td>\n",
       "    </tr>\n",
       "    <tr>\n",
       "      <th>4</th>\n",
       "      <td>1946-001</td>\n",
       "      <td>1946-001-01</td>\n",
       "      <td>1946-001-01-01</td>\n",
       "      <td>1946-001-01-01-01-05</td>\n",
       "      <td>11/18/1946</td>\n",
       "      <td>1</td>\n",
       "      <td>329 U.S. 1</td>\n",
       "      <td>67 S. Ct. 6</td>\n",
       "      <td>91 L. Ed. 3</td>\n",
       "      <td>1946 U.S. LEXIS 1724</td>\n",
       "      <td>...</td>\n",
       "      <td>8</td>\n",
       "      <td>1</td>\n",
       "      <td>79</td>\n",
       "      <td>SFReed</td>\n",
       "      <td>1.0</td>\n",
       "      <td>1.0</td>\n",
       "      <td>2.0</td>\n",
       "      <td>2.0</td>\n",
       "      <td>NaN</td>\n",
       "      <td>NaN</td>\n",
       "    </tr>\n",
       "  </tbody>\n",
       "</table>\n",
       "<p>5 rows × 61 columns</p>\n",
       "</div>"
      ],
      "text/plain": [
       "     caseId     docketId    caseIssuesId                voteId dateDecision  \\\n",
       "0  1946-001  1946-001-01  1946-001-01-01  1946-001-01-01-01-01   11/18/1946   \n",
       "1  1946-001  1946-001-01  1946-001-01-01  1946-001-01-01-01-02   11/18/1946   \n",
       "2  1946-001  1946-001-01  1946-001-01-01  1946-001-01-01-01-03   11/18/1946   \n",
       "3  1946-001  1946-001-01  1946-001-01-01  1946-001-01-01-01-04   11/18/1946   \n",
       "4  1946-001  1946-001-01  1946-001-01-01  1946-001-01-01-01-05   11/18/1946   \n",
       "\n",
       "   decisionType      usCite      sctCite      ledCite             lexisCite  \\\n",
       "0             1  329 U.S. 1  67 S. Ct. 6  91 L. Ed. 3  1946 U.S. LEXIS 1724   \n",
       "1             1  329 U.S. 1  67 S. Ct. 6  91 L. Ed. 3  1946 U.S. LEXIS 1724   \n",
       "2             1  329 U.S. 1  67 S. Ct. 6  91 L. Ed. 3  1946 U.S. LEXIS 1724   \n",
       "3             1  329 U.S. 1  67 S. Ct. 6  91 L. Ed. 3  1946 U.S. LEXIS 1724   \n",
       "4             1  329 U.S. 1  67 S. Ct. 6  91 L. Ed. 3  1946 U.S. LEXIS 1724   \n",
       "\n",
       "   ...  majVotes  minVotes justice   justiceName vote opinion direction  \\\n",
       "0  ...         8         1      86      HHBurton  2.0     1.0       1.0   \n",
       "1  ...         8         1      84     RHJackson  1.0     1.0       2.0   \n",
       "2  ...         8         1      81     WODouglas  1.0     1.0       2.0   \n",
       "3  ...         8         1      80  FFrankfurter  4.0     2.0       2.0   \n",
       "4  ...         8         1      79        SFReed  1.0     1.0       2.0   \n",
       "\n",
       "   majority  firstAgreement  secondAgreement  \n",
       "0       1.0             NaN              NaN  \n",
       "1       2.0             NaN              NaN  \n",
       "2       2.0             NaN              NaN  \n",
       "3       2.0             NaN              NaN  \n",
       "4       2.0             NaN              NaN  \n",
       "\n",
       "[5 rows x 61 columns]"
      ]
     },
     "metadata": {},
     "execution_count": 5
    }
   ],
   "metadata": {}
  },
  {
   "cell_type": "code",
   "execution_count": 6,
   "source": [
    "df[\"vote\"]"
   ],
   "outputs": [
    {
     "output_type": "execute_result",
     "data": {
      "text/plain": [
       "0        2.0\n",
       "1        1.0\n",
       "2        1.0\n",
       "3        4.0\n",
       "4        1.0\n",
       "        ... \n",
       "81425    1.0\n",
       "81426    1.0\n",
       "81427    2.0\n",
       "81428    1.0\n",
       "81429    1.0\n",
       "Name: vote, Length: 81430, dtype: float64"
      ]
     },
     "metadata": {},
     "execution_count": 6
    }
   ],
   "metadata": {}
  },
  {
   "cell_type": "code",
   "execution_count": 7,
   "source": [
    "df[\"vote\"] = df.apply(lambda x: \"plaintiff\" if x[\"partyWinning\"] == \"plaintiff\" else \"defendant\", axis=1)"
   ],
   "outputs": [],
   "metadata": {}
  },
  {
   "cell_type": "code",
   "execution_count": 8,
   "source": [
    "df[\"vote\"].value_counts()"
   ],
   "outputs": [
    {
     "output_type": "execute_result",
     "data": {
      "text/plain": [
       "plaintiff    52070\n",
       "defendant    29360\n",
       "Name: vote, dtype: int64"
      ]
     },
     "metadata": {},
     "execution_count": 8
    }
   ],
   "metadata": {}
  },
  {
   "cell_type": "code",
   "execution_count": 9,
   "source": [
    "df[\"dateDecision\"]"
   ],
   "outputs": [
    {
     "output_type": "execute_result",
     "data": {
      "text/plain": [
       "0        11/18/1946\n",
       "1        11/18/1946\n",
       "2        11/18/1946\n",
       "3        11/18/1946\n",
       "4        11/18/1946\n",
       "            ...    \n",
       "81425     6/28/2021\n",
       "81426     6/28/2021\n",
       "81427     6/28/2021\n",
       "81428     6/28/2021\n",
       "81429     6/28/2021\n",
       "Name: dateDecision, Length: 81430, dtype: object"
      ]
     },
     "metadata": {},
     "execution_count": 9
    }
   ],
   "metadata": {}
  },
  {
   "cell_type": "code",
   "execution_count": 10,
   "source": [
    "df['dateDecision'] =  pd.to_datetime(df['dateDecision'], format='%m/%d/%Y').dt.strftime(\"%Y/%m/%d\")"
   ],
   "outputs": [],
   "metadata": {}
  },
  {
   "cell_type": "code",
   "execution_count": 11,
   "source": [
    "df[\"dateDecision\"]"
   ],
   "outputs": [
    {
     "output_type": "execute_result",
     "data": {
      "text/plain": [
       "0        1946/11/18\n",
       "1        1946/11/18\n",
       "2        1946/11/18\n",
       "3        1946/11/18\n",
       "4        1946/11/18\n",
       "            ...    \n",
       "81425    2021/06/28\n",
       "81426    2021/06/28\n",
       "81427    2021/06/28\n",
       "81428    2021/06/28\n",
       "81429    2021/06/28\n",
       "Name: dateDecision, Length: 81430, dtype: object"
      ]
     },
     "metadata": {},
     "execution_count": 11
    }
   ],
   "metadata": {}
  },
  {
   "cell_type": "code",
   "execution_count": 12,
   "source": [
    "df[\"directionLabel\"] = df.apply(lambda x: \"Conservative\" if x[\"direction\"] == 1 else \"Liberal\", axis=1)"
   ],
   "outputs": [],
   "metadata": {}
  },
  {
   "cell_type": "code",
   "execution_count": 13,
   "source": [
    "df[df[\"justice\"] == 109][\"directionLabel\"].value_counts().plot(kind=\"bar\", title=\"Ruth Bader Ginsburg Decisions\", xlabel=\"Decision Direction\", ylabel=\"Number of Decisions\")  # RBG - 1 == Conservative Opinion, 2 == Liberal Opinion"
   ],
   "outputs": [
    {
     "output_type": "execute_result",
     "data": {
      "text/plain": [
       "<AxesSubplot:title={'center':'Ruth Bader Ginsburg Decisions'}, xlabel='Decision Direction', ylabel='Number of Decisions'>"
      ]
     },
     "metadata": {},
     "execution_count": 13
    },
    {
     "output_type": "display_data",
     "data": {
      "image/png": "[encoded data removed]",
      "text/plain": [
       "<Figure size 432x288 with 1 Axes>"
      ]
     },
     "metadata": {
      "needs_background": "light"
     }
    }
   ],
   "metadata": {}
  },
  {
   "cell_type": "code",
   "execution_count": 14,
   "source": [
    "df[df[\"justice\"] == 105][\"directionLabel\"].value_counts().plot(kind=\"bar\", title=\"Anthony Scalia Decisions\", xlabel=\"Decision Direction\", ylabel=\"Number of Decisions\")   # Scalia - 1 == Conservative Opinion, 2 == Liberal Opinion"
   ],
   "outputs": [
    {
     "output_type": "execute_result",
     "data": {
      "text/plain": [
       "<AxesSubplot:title={'center':'Anthony Scalia Decisions'}, xlabel='Decision Direction', ylabel='Number of Decisions'>"
      ]
     },
     "metadata": {},
     "execution_count": 14
    },
    {
     "output_type": "display_data",
     "data": {
      "image/png": "[encoded data removed]",
      "text/plain": [
       "<Figure size 432x288 with 1 Axes>"
      ]
     },
     "metadata": {
      "needs_background": "light"
     }
    }
   ],
   "metadata": {}
  },
  {
   "cell_type": "code",
   "execution_count": 15,
   "source": [
    "df[df[\"justice\"] == 113][\"directionLabel\"].value_counts().plot(kind=\"bar\", title=\"Sonia Sotomayor Decisions\", xlabel=\"Decision Direction\", ylabel=\"Number of Decisions\")   # Sotomayor - 1 == Conservative Opinion, 2 == Liberal Opinion"
   ],
   "outputs": [
    {
     "output_type": "execute_result",
     "data": {
      "text/plain": [
       "<AxesSubplot:title={'center':'Sonia Sotomayor Decisions'}, xlabel='Decision Direction', ylabel='Number of Decisions'>"
      ]
     },
     "metadata": {},
     "execution_count": 15
    },
    {
     "output_type": "display_data",
     "data": {
      "image/png": "[encoded data removed]",
      "text/plain": [
       "<Figure size 432x288 with 1 Axes>"
      ]
     },
     "metadata": {
      "needs_background": "light"
     }
    }
   ],
   "metadata": {}
  },
  {
   "cell_type": "code",
   "execution_count": 16,
   "source": [
    "df[\"directionLabel\"].value_counts().plot(kind=\"bar\", title=\"SCOTUS Decisions\", xlabel=\"Decision Direction\", ylabel=\"Number of Decisions\")"
   ],
   "outputs": [
    {
     "output_type": "execute_result",
     "data": {
      "text/plain": [
       "<AxesSubplot:title={'center':'SCOTUS Decisions'}, xlabel='Decision Direction', ylabel='Number of Decisions'>"
      ]
     },
     "metadata": {},
     "execution_count": 16
    },
    {
     "output_type": "display_data",
     "data": {
      "image/png": "[encoded data removed]",
      "text/plain": [
       "<Figure size 432x288 with 1 Axes>"
      ]
     },
     "metadata": {
      "needs_background": "light"
     }
    }
   ],
   "metadata": {}
  },
  {
   "cell_type": "code",
   "execution_count": 17,
   "source": [
    "df[\"usCite\"]"
   ],
   "outputs": [
    {
     "output_type": "execute_result",
     "data": {
      "text/plain": [
       "0        329 U.S. 1\n",
       "1        329 U.S. 1\n",
       "2        329 U.S. 1\n",
       "3        329 U.S. 1\n",
       "4        329 U.S. 1\n",
       "            ...    \n",
       "81425           NaN\n",
       "81426           NaN\n",
       "81427           NaN\n",
       "81428           NaN\n",
       "81429           NaN\n",
       "Name: usCite, Length: 81430, dtype: object"
      ]
     },
     "metadata": {},
     "execution_count": 17
    }
   ],
   "metadata": {}
  },
  {
   "cell_type": "code",
   "execution_count": 18,
   "source": [
    "import os\n",
    "\n",
    "files = os.listdir(\"./scotus_clusters\")\n",
    "\n",
    "files = [x for x in files if \".json\" in x]"
   ],
   "outputs": [],
   "metadata": {}
  },
  {
   "cell_type": "code",
   "execution_count": 19,
   "source": [
    "len(files)"
   ],
   "outputs": [
    {
     "output_type": "execute_result",
     "data": {
      "text/plain": [
       "64346"
      ]
     },
     "metadata": {},
     "execution_count": 19
    }
   ],
   "metadata": {}
  },
  {
   "cell_type": "code",
   "execution_count": 21,
   "source": [
    "import json\n",
    "\n",
    "mapping = {}\n",
    "for f in files:\n",
    "    with open(\"./scotus_clusters/\"+f) as case:\n",
    "        try:\n",
    "            data = json.load(case)\n",
    "            try:\n",
    "                if data[\"scdb_id\"] != '':\n",
    "                    mapping[data[\"scdb_id\"]] = data[\"id\"]\n",
    "            except KeyError:\n",
    "                pass\n",
    "        except UnicodeDecodeError:\n",
    "            pass"
   ],
   "outputs": [],
   "metadata": {}
  },
  {
   "cell_type": "code",
   "execution_count": 22,
   "source": [
    "len(mapping)"
   ],
   "outputs": [
    {
     "output_type": "execute_result",
     "data": {
      "text/plain": [
       "28109"
      ]
     },
     "metadata": {},
     "execution_count": 22
    }
   ],
   "metadata": {}
  },
  {
   "cell_type": "code",
   "execution_count": 31,
   "source": [
    "scdb_cl = pd.DataFrame.from_dict(mapping, orient=\"index\").reset_index().rename(columns={\"index\":\"scdb_id\", 0:\"cl_id\"})\n",
    "scdb_cl.head()"
   ],
   "outputs": [
    {
     "output_type": "execute_result",
     "data": {
      "text/html": [
       "<div>\n",
       "<style scoped>\n",
       "    .dataframe tbody tr th:only-of-type {\n",
       "        vertical-align: middle;\n",
       "    }\n",
       "\n",
       "    .dataframe tbody tr th {\n",
       "        vertical-align: top;\n",
       "    }\n",
       "\n",
       "    .dataframe thead th {\n",
       "        text-align: right;\n",
       "    }\n",
       "</style>\n",
       "<table border=\"1\" class=\"dataframe\">\n",
       "  <thead>\n",
       "    <tr style=\"text-align: right;\">\n",
       "      <th></th>\n",
       "      <th>scdb_id</th>\n",
       "      <th>cl_id</th>\n",
       "    </tr>\n",
       "  </thead>\n",
       "  <tbody>\n",
       "    <tr>\n",
       "      <th>0</th>\n",
       "      <td>2013-033</td>\n",
       "      <td>2659301</td>\n",
       "    </tr>\n",
       "    <tr>\n",
       "      <th>1</th>\n",
       "      <td>1841-005</td>\n",
       "      <td>86166</td>\n",
       "    </tr>\n",
       "    <tr>\n",
       "      <th>2</th>\n",
       "      <td>1913-149</td>\n",
       "      <td>98178</td>\n",
       "    </tr>\n",
       "    <tr>\n",
       "      <th>3</th>\n",
       "      <td>1881-187</td>\n",
       "      <td>90548</td>\n",
       "    </tr>\n",
       "    <tr>\n",
       "      <th>4</th>\n",
       "      <td>1889-015</td>\n",
       "      <td>92575</td>\n",
       "    </tr>\n",
       "  </tbody>\n",
       "</table>\n",
       "</div>"
      ],
      "text/plain": [
       "    scdb_id    cl_id\n",
       "0  2013-033  2659301\n",
       "1  1841-005    86166\n",
       "2  1913-149    98178\n",
       "3  1881-187    90548\n",
       "4  1889-015    92575"
      ]
     },
     "metadata": {},
     "execution_count": 31
    }
   ],
   "metadata": {}
  },
  {
   "cell_type": "code",
   "execution_count": 32,
   "source": [
    "scdb_cl.to_csv(\"./scdb_cl.csv\")"
   ],
   "outputs": [],
   "metadata": {}
  },
  {
   "cell_type": "code",
   "execution_count": 33,
   "source": [
    "citations = pd.read_csv(\"./caseCitationEdges.csv\")"
   ],
   "outputs": [],
   "metadata": {}
  },
  {
   "cell_type": "code",
   "execution_count": 34,
   "source": [
    "citations.head()"
   ],
   "outputs": [
    {
     "output_type": "execute_result",
     "data": {
      "text/html": [
       "<div>\n",
       "<style scoped>\n",
       "    .dataframe tbody tr th:only-of-type {\n",
       "        vertical-align: middle;\n",
       "    }\n",
       "\n",
       "    .dataframe tbody tr th {\n",
       "        vertical-align: top;\n",
       "    }\n",
       "\n",
       "    .dataframe thead th {\n",
       "        text-align: right;\n",
       "    }\n",
       "</style>\n",
       "<table border=\"1\" class=\"dataframe\">\n",
       "  <thead>\n",
       "    <tr style=\"text-align: right;\">\n",
       "      <th></th>\n",
       "      <th>citing_opinion_id</th>\n",
       "      <th>cited_opinion_id</th>\n",
       "      <th>depth</th>\n",
       "    </tr>\n",
       "  </thead>\n",
       "  <tbody>\n",
       "    <tr>\n",
       "      <th>0</th>\n",
       "      <td>4548845</td>\n",
       "      <td>2336010</td>\n",
       "      <td>1</td>\n",
       "    </tr>\n",
       "    <tr>\n",
       "      <th>1</th>\n",
       "      <td>4548845</td>\n",
       "      <td>2548332</td>\n",
       "      <td>1</td>\n",
       "    </tr>\n",
       "    <tr>\n",
       "      <th>2</th>\n",
       "      <td>4548841</td>\n",
       "      <td>77612</td>\n",
       "      <td>1</td>\n",
       "    </tr>\n",
       "    <tr>\n",
       "      <th>3</th>\n",
       "      <td>4548841</td>\n",
       "      <td>396175</td>\n",
       "      <td>1</td>\n",
       "    </tr>\n",
       "    <tr>\n",
       "      <th>4</th>\n",
       "      <td>4548841</td>\n",
       "      <td>1304595</td>\n",
       "      <td>2</td>\n",
       "    </tr>\n",
       "  </tbody>\n",
       "</table>\n",
       "</div>"
      ],
      "text/plain": [
       "   citing_opinion_id  cited_opinion_id  depth\n",
       "0            4548845           2336010      1\n",
       "1            4548845           2548332      1\n",
       "2            4548841             77612      1\n",
       "3            4548841            396175      1\n",
       "4            4548841           1304595      2"
      ]
     },
     "metadata": {},
     "execution_count": 34
    }
   ],
   "metadata": {}
  },
  {
   "cell_type": "code",
   "execution_count": 35,
   "source": [
    "citations.shape"
   ],
   "outputs": [
    {
     "output_type": "execute_result",
     "data": {
      "text/plain": [
       "(30948284, 3)"
      ]
     },
     "metadata": {},
     "execution_count": 35
    }
   ],
   "metadata": {}
  },
  {
   "cell_type": "code",
   "execution_count": 36,
   "source": [
    "scotus_cases = set(scdb_cl[\"cl_id\"].values)"
   ],
   "outputs": [],
   "metadata": {}
  },
  {
   "cell_type": "code",
   "execution_count": 40,
   "source": [
    "scotus_citations = citations[citations[\"citing_opinion_id\"].isin(scotus_cases) & citations[\"cited_opinion_id\"].isin(scotus_cases)]"
   ],
   "outputs": [],
   "metadata": {}
  },
  {
   "cell_type": "code",
   "execution_count": 41,
   "source": [
    "scotus_citations.shape"
   ],
   "outputs": [
    {
     "output_type": "execute_result",
     "data": {
      "text/plain": [
       "(235355, 3)"
      ]
     },
     "metadata": {},
     "execution_count": 41
    }
   ],
   "metadata": {}
  },
  {
   "cell_type": "code",
   "execution_count": 42,
   "source": [
    "inv_map = {v: k for k, v in mapping.items()}\n",
    "scdb_id_citations = scotus_citations.replace({\"citing_opinion_id\": inv_map, \"cited_opinion_id\": inv_map})"
   ],
   "outputs": [],
   "metadata": {}
  },
  {
   "cell_type": "code",
   "execution_count": 43,
   "source": [
    "scdb_id_citations.head()"
   ],
   "outputs": [
    {
     "output_type": "execute_result",
     "data": {
      "text/html": [
       "<div>\n",
       "<style scoped>\n",
       "    .dataframe tbody tr th:only-of-type {\n",
       "        vertical-align: middle;\n",
       "    }\n",
       "\n",
       "    .dataframe tbody tr th {\n",
       "        vertical-align: top;\n",
       "    }\n",
       "\n",
       "    .dataframe thead th {\n",
       "        text-align: right;\n",
       "    }\n",
       "</style>\n",
       "<table border=\"1\" class=\"dataframe\">\n",
       "  <thead>\n",
       "    <tr style=\"text-align: right;\">\n",
       "      <th></th>\n",
       "      <th>citing_opinion_id</th>\n",
       "      <th>cited_opinion_id</th>\n",
       "      <th>depth</th>\n",
       "    </tr>\n",
       "  </thead>\n",
       "  <tbody>\n",
       "    <tr>\n",
       "      <th>9164</th>\n",
       "      <td>2018-001</td>\n",
       "      <td>1994-024</td>\n",
       "      <td>1</td>\n",
       "    </tr>\n",
       "    <tr>\n",
       "      <th>9184</th>\n",
       "      <td>2018-001</td>\n",
       "      <td>2009-012</td>\n",
       "      <td>1</td>\n",
       "    </tr>\n",
       "    <tr>\n",
       "      <th>114859</th>\n",
       "      <td>2005-037</td>\n",
       "      <td>1972-058</td>\n",
       "      <td>1</td>\n",
       "    </tr>\n",
       "    <tr>\n",
       "      <th>114860</th>\n",
       "      <td>2005-037</td>\n",
       "      <td>1882-132</td>\n",
       "      <td>1</td>\n",
       "    </tr>\n",
       "    <tr>\n",
       "      <th>114861</th>\n",
       "      <td>2005-037</td>\n",
       "      <td>1954-050</td>\n",
       "      <td>1</td>\n",
       "    </tr>\n",
       "  </tbody>\n",
       "</table>\n",
       "</div>"
      ],
      "text/plain": [
       "       citing_opinion_id cited_opinion_id  depth\n",
       "9164            2018-001         1994-024      1\n",
       "9184            2018-001         2009-012      1\n",
       "114859          2005-037         1972-058      1\n",
       "114860          2005-037         1882-132      1\n",
       "114861          2005-037         1954-050      1"
      ]
     },
     "metadata": {},
     "execution_count": 43
    }
   ],
   "metadata": {}
  },
  {
   "cell_type": "code",
   "execution_count": 44,
   "source": [
    "scotus_citations.head()"
   ],
   "outputs": [
    {
     "output_type": "execute_result",
     "data": {
      "text/html": [
       "<div>\n",
       "<style scoped>\n",
       "    .dataframe tbody tr th:only-of-type {\n",
       "        vertical-align: middle;\n",
       "    }\n",
       "\n",
       "    .dataframe tbody tr th {\n",
       "        vertical-align: top;\n",
       "    }\n",
       "\n",
       "    .dataframe thead th {\n",
       "        text-align: right;\n",
       "    }\n",
       "</style>\n",
       "<table border=\"1\" class=\"dataframe\">\n",
       "  <thead>\n",
       "    <tr style=\"text-align: right;\">\n",
       "      <th></th>\n",
       "      <th>citing_opinion_id</th>\n",
       "      <th>cited_opinion_id</th>\n",
       "      <th>depth</th>\n",
       "    </tr>\n",
       "  </thead>\n",
       "  <tbody>\n",
       "    <tr>\n",
       "      <th>9164</th>\n",
       "      <td>4550984</td>\n",
       "      <td>117898</td>\n",
       "      <td>1</td>\n",
       "    </tr>\n",
       "    <tr>\n",
       "      <th>9184</th>\n",
       "      <td>4550984</td>\n",
       "      <td>1741</td>\n",
       "      <td>1</td>\n",
       "    </tr>\n",
       "    <tr>\n",
       "      <th>114859</th>\n",
       "      <td>145674</td>\n",
       "      <td>108723</td>\n",
       "      <td>1</td>\n",
       "    </tr>\n",
       "    <tr>\n",
       "      <th>114860</th>\n",
       "      <td>145674</td>\n",
       "      <td>90753</td>\n",
       "      <td>1</td>\n",
       "    </tr>\n",
       "    <tr>\n",
       "      <th>114861</th>\n",
       "      <td>145674</td>\n",
       "      <td>105289</td>\n",
       "      <td>1</td>\n",
       "    </tr>\n",
       "  </tbody>\n",
       "</table>\n",
       "</div>"
      ],
      "text/plain": [
       "        citing_opinion_id  cited_opinion_id  depth\n",
       "9164              4550984            117898      1\n",
       "9184              4550984              1741      1\n",
       "114859             145674            108723      1\n",
       "114860             145674             90753      1\n",
       "114861             145674            105289      1"
      ]
     },
     "metadata": {},
     "execution_count": 44
    }
   ],
   "metadata": {}
  },
  {
   "cell_type": "code",
   "execution_count": 45,
   "source": [
    "mapping[\"2018-001\"]"
   ],
   "outputs": [
    {
     "output_type": "execute_result",
     "data": {
      "text/plain": [
       "4550984"
      ]
     },
     "metadata": {},
     "execution_count": 45
    }
   ],
   "metadata": {}
  },
  {
   "cell_type": "code",
   "execution_count": null,
   "source": [],
   "outputs": [],
   "metadata": {}
  }
 ],
 "metadata": {
  "orig_nbformat": 4,
  "language_info": {
   "name": "python",
   "version": "3.7.11",
   "mimetype": "text/x-python",
   "codemirror_mode": {
    "name": "ipython",
    "version": 3
   },
   "pygments_lexer": "ipython3",
   "nbconvert_exporter": "python",
   "file_extension": ".py"
  },
  "kernelspec": {
   "name": "python3",
   "display_name": "Python 3.7.11 64-bit ('scotus': conda)"
  },
  "interpreter": {
   "hash": "c7d6c6bf3a9871602155f511049beaabedd6a9be8dcd8fb85b899fcd7dc30501"
  }
 },
 "nbformat": 4,
 "nbformat_minor": 2
}