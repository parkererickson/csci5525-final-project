{
 "cells": [
  {
   "cell_type": "code",
   "execution_count": 1,
   "source": [
    "import requests as r \n",
    "\n",
    "resp = r.get(\"https://raw.githubusercontent.com/walkerdb/supreme_court_transcripts/master/oyez/case_summaries.json\")"
   ],
   "outputs": [],
   "metadata": {}
  },
  {
   "cell_type": "code",
   "execution_count": 3,
   "source": [
    "len(resp.json())"
   ],
   "outputs": [
    {
     "output_type": "execute_result",
     "data": {
      "text/plain": [
       "8137"
      ]
     },
     "metadata": {},
     "execution_count": 3
    }
   ],
   "metadata": {}
  },
  {
   "cell_type": "code",
   "execution_count": 4,
   "source": [
    "validCases = []\n",
    "\n",
    "for case in resp.json():\n",
    "    caseDetails = r.get(case[\"href\"]).json()\n",
    "    if type(caseDetails) == dict:\n",
    "        if (caseDetails[\"facts_of_the_case\"] is not None and caseDetails[\"facts_of_the_case\"] != '') and (caseDetails[\"question\"] is not None and caseDetails[\"question\"] != '') and (caseDetails[\"decisions\"] is not None and caseDetails[\"decisions\"] != ''):\n",
    "            validCases.append(caseDetails)\n",
    "    "
   ],
   "outputs": [],
   "metadata": {}
  },
  {
   "cell_type": "code",
   "execution_count": 5,
   "source": [
    "len(validCases)"
   ],
   "outputs": [
    {
     "output_type": "execute_result",
     "data": {
      "text/plain": [
       "187"
      ]
     },
     "metadata": {},
     "execution_count": 5
    }
   ],
   "metadata": {}
  },
  {
   "cell_type": "code",
   "execution_count": 10,
   "source": [
    "def parseCase(case):\n",
    "    try:\n",
    "        cn = case[\"name\"].split(\"v.\")\n",
    "        plantiff = cn[0].strip()\n",
    "        defendant = cn[1].strip()\n",
    "        question = case[\"question\"].strip().strip(\"<p>\").strip(\"</p>\").strip(\"\\n\")\n",
    "        facts = case[\"facts_of_the_case\"].strip().strip(\"<p>\").strip(\"</p>\").strip(\"\\n\")\n",
    "        winningParty = case[\"decisions\"][0][\"winning_party\"]\n",
    "        inFavorPlantiff = True if winningParty == plantiff or winningParty == case[\"first_party\"] else False\n",
    "        votes = {}\n",
    "        for vote in case[\"decisions\"][0][\"votes\"]:\n",
    "            if vote[\"vote\"] != \"none\":\n",
    "                if inFavorPlantiff and vote[\"vote\"] == \"majority\":\n",
    "                    votes[vote[\"member\"][\"identifier\"]] = \"plantiff\"\n",
    "                elif not inFavorPlantiff and vote[\"vote\"] == \"majority\":\n",
    "                    votes[vote[\"member\"][\"identifier\"]] = \"defendant\"\n",
    "                elif inFavorPlantiff and vote[\"vote\"] == \"minority\":\n",
    "                    votes[vote[\"member\"][\"identifier\"]] = \"defendant\"\n",
    "                elif not inFavorPlantiff and vote[\"vote\"] == \"minority\":\n",
    "                    votes[vote[\"member\"][\"identifier\"]] = \"plantiff\"\n",
    "        return {\n",
    "            \"plantiff\": plantiff,\n",
    "            \"defendant\": defendant,\n",
    "            \"question\": question,\n",
    "            \"facts\": facts,\n",
    "            \"winningParty\": winningParty,\n",
    "            \"inFavorPlantiff\": inFavorPlantiff,\n",
    "            \"votes\": votes\n",
    "        }\n",
    "    except:\n",
    "        pass"
   ],
   "outputs": [],
   "metadata": {}
  },
  {
   "cell_type": "code",
   "execution_count": 15,
   "source": [
    "processedCases = []\n",
    "for case in validCases:\n",
    "    paresed = parseCase(case)\n",
    "    if paresed is not None:\n",
    "        processedCases.append(paresed)"
   ],
   "outputs": [],
   "metadata": {}
  },
  {
   "cell_type": "code",
   "execution_count": 16,
   "source": [
    "len(processedCases)"
   ],
   "outputs": [
    {
     "output_type": "execute_result",
     "data": {
      "text/plain": [
       "186"
      ]
     },
     "metadata": {},
     "execution_count": 16
    }
   ],
   "metadata": {}
  },
  {
   "cell_type": "code",
   "execution_count": 17,
   "source": [
    "processedCases[0]"
   ],
   "outputs": [
    {
     "output_type": "execute_result",
     "data": {
      "text/plain": [
       "{'plantiff': 'Roe',\n",
       " 'defendant': 'Wade',\n",
       " 'question': \"Does the Constitution recognize a woman's right to terminate her pregnancy by abortion?\",\n",
       " 'facts': 'In 1970, Jane Roe (a fictional name used in court documents to protect the plaintiff’s identity) filed a lawsuit against Henry Wade, the district attorney of Dallas County, Texas, where she resided, challenging a Texas law making abortion illegal except by a doctor’s orders to save a woman’s life. In her lawsuit, Roe alleged that the state laws were unconstitutionally vague and abridged her right of personal privacy, protected by the First, Fourth, Fifth, Ninth, and Fourteenth Amendments.',\n",
       " 'winningParty': 'Jane Roe',\n",
       " 'inFavorPlantiff': True,\n",
       " 'votes': {'william_o_douglas': 'plantiff',\n",
       "  'potter_stewart': 'plantiff',\n",
       "  'thurgood_marshall': 'plantiff',\n",
       "  'william_j_brennan_jr': 'plantiff',\n",
       "  'byron_r_white': 'defendant',\n",
       "  'warren_e_burger': 'plantiff',\n",
       "  'harry_a_blackmun': 'plantiff',\n",
       "  'lewis_f_powell_jr': 'plantiff',\n",
       "  'william_h_rehnquist': 'defendant'}}"
      ]
     },
     "metadata": {},
     "execution_count": 17
    }
   ],
   "metadata": {}
  },
  {
   "cell_type": "code",
   "execution_count": 19,
   "source": [
    "import pickle\n",
    "\n",
    "with open('processedCases.pickle', 'wb') as handle:\n",
    "    pickle.dump(processedCases, handle, protocol=pickle.HIGHEST_PROTOCOL)"
   ],
   "outputs": [],
   "metadata": {}
  },
  {
   "cell_type": "code",
   "execution_count": null,
   "source": [],
   "outputs": [],
   "metadata": {}
  }
 ],
 "metadata": {
  "orig_nbformat": 4,
  "language_info": {
   "name": "python",
   "version": "3.7.11",
   "mimetype": "text/x-python",
   "codemirror_mode": {
    "name": "ipython",
    "version": 3
   },
   "pygments_lexer": "ipython3",
   "nbconvert_exporter": "python",
   "file_extension": ".py"
  },
  "kernelspec": {
   "name": "python3",
   "display_name": "Python 3.7.11 64-bit ('scotus': conda)"
  },
  "interpreter": {
   "hash": "c7d6c6bf3a9871602155f511049beaabedd6a9be8dcd8fb85b899fcd7dc30501"
  }
 },
 "nbformat": 4,
 "nbformat_minor": 2
}