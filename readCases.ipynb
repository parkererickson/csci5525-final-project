{
 "cells": [
  {
   "cell_type": "code",
   "execution_count": 10,
   "metadata": {},
   "outputs": [],
   "source": [
    "import os\n",
    "path = \"/home/parker/supreme_court_transcripts/oyez/cases/\"\n",
    "cases = os.listdir(path)"
   ]
  },
  {
   "cell_type": "code",
   "execution_count": 11,
   "metadata": {},
   "outputs": [
    {
     "name": "stdout",
     "output_type": "stream",
     "text": [
      "16425\n"
     ]
    }
   ],
   "source": [
    "print(len(cases))"
   ]
  },
  {
   "cell_type": "code",
   "execution_count": 12,
   "metadata": {},
   "outputs": [],
   "source": [
    "import json\n",
    "\n",
    "validCases = []\n",
    "\n",
    "for case in cases:\n",
    "    try:\n",
    "        caseDetails = json.load(open(path + case))\n",
    "        if type(caseDetails) == dict:\n",
    "            if (caseDetails[\"facts_of_the_case\"] is not None and caseDetails[\"facts_of_the_case\"] != '') and (caseDetails[\"question\"] is not None and caseDetails[\"question\"] != '') and (caseDetails[\"decisions\"] is not None and caseDetails[\"decisions\"] != ''):\n",
    "                validCases.append(caseDetails)\n",
    "    except:\n",
    "        pass"
   ]
  },
  {
   "cell_type": "code",
   "execution_count": 13,
   "metadata": {},
   "outputs": [
    {
     "data": {
      "text/plain": [
       "3122"
      ]
     },
     "execution_count": 13,
     "metadata": {},
     "output_type": "execute_result"
    }
   ],
   "source": [
    "len(validCases)"
   ]
  },
  {
   "cell_type": "code",
   "execution_count": 14,
   "metadata": {},
   "outputs": [],
   "source": [
    "import re\n",
    "# as per recommendation from @freylis, compile once only\n",
    "CLEANR = re.compile('<.*?>') \n",
    "\n",
    "def cleanhtml(raw_html):\n",
    "  cleantext = re.sub(CLEANR, '', raw_html)\n",
    "  cleantext = cleantext.strip('\\n')\n",
    "  return cleantext"
   ]
  },
  {
   "cell_type": "code",
   "execution_count": 15,
   "metadata": {},
   "outputs": [],
   "source": [
    "def parseCase(case):\n",
    "    try:\n",
    "        cn = case[\"name\"].split(\"v.\")\n",
    "        plantiff = cn[0].strip()\n",
    "        defendant = cn[1].strip()\n",
    "        question = cleanhtml(case[\"question\"])\n",
    "        facts = cleanhtml(case[\"facts_of_the_case\"])\n",
    "\n",
    "        question = question.replace(plantiff, \"plantiff\").replace(defendant, \"defendant\")\n",
    "        facts = facts.replace(plantiff, \"plantiff\").replace(defendant, \"defendant\")\n",
    "\n",
    "        winningParty = case[\"decisions\"][0][\"winning_party\"]\n",
    "        inFavorPlantiff = True if winningParty == plantiff or winningParty == case[\"first_party\"] else False\n",
    "        court = case[\"heard_by\"][0][\"identifier\"]\n",
    "        votes = {}\n",
    "        for vote in case[\"decisions\"][0][\"votes\"]:\n",
    "            if vote[\"vote\"] != \"none\":\n",
    "                if inFavorPlantiff and vote[\"vote\"] == \"majority\":\n",
    "                    votes[vote[\"member\"][\"identifier\"]] = \"plantiff\"\n",
    "                elif not inFavorPlantiff and vote[\"vote\"] == \"majority\":\n",
    "                    votes[vote[\"member\"][\"identifier\"]] = \"defendant\"\n",
    "                elif inFavorPlantiff and vote[\"vote\"] == \"minority\":\n",
    "                    votes[vote[\"member\"][\"identifier\"]] = \"defendant\"\n",
    "                elif not inFavorPlantiff and vote[\"vote\"] == \"minority\":\n",
    "                    votes[vote[\"member\"][\"identifier\"]] = \"plantiff\"\n",
    "        return {\n",
    "            \"plantiff\": plantiff,\n",
    "            \"defendant\": defendant,\n",
    "            \"question\": question,\n",
    "            \"facts\": facts,\n",
    "            \"court\": court,\n",
    "            \"winningParty\": winningParty,\n",
    "            \"inFavorPlantiff\": inFavorPlantiff,\n",
    "            \"votes\": votes\n",
    "        }\n",
    "    except:\n",
    "        pass"
   ]
  },
  {
   "cell_type": "code",
   "execution_count": 16,
   "metadata": {},
   "outputs": [],
   "source": [
    "processedCases = []\n",
    "for case in validCases:\n",
    "    paresed = parseCase(case)\n",
    "    if paresed is not None:\n",
    "        processedCases.append(paresed)"
   ]
  },
  {
   "cell_type": "code",
   "execution_count": 17,
   "metadata": {},
   "outputs": [
    {
     "data": {
      "text/plain": [
       "2938"
      ]
     },
     "execution_count": 17,
     "metadata": {},
     "output_type": "execute_result"
    }
   ],
   "source": [
    "len(processedCases)"
   ]
  },
  {
   "cell_type": "code",
   "execution_count": 18,
   "metadata": {},
   "outputs": [
    {
     "data": {
      "text/plain": [
       "{'plantiff': 'Proffitt',\n",
       " 'defendant': 'Florida',\n",
       " 'question': 'Is the death penalty a \"cruel and unusual\" punishment? Is defendant\\'s capital-sentencing procedure unconstitutional?',\n",
       " 'facts': 'Following his defendant conviction for first-degree murder and the imposition of the death penalty, plantiff challenged the constitutionality of both his death sentence, alleging it was a \"cruel and unusual\" punishment, and defendant\\'s capital-sentencing procedure, alleging is was arbitrary and capricious insofar as it permitted judges rather than juries to act as sole sentencing authorities.\\nThis case is one of the five \"Death Penalty Cases\" along with  Gregg v. Georgia ,  Jurek v. Texas ,  Roberts v. Louisiana , and  Woodson v. North Carolina .',\n",
       " 'court': 'burger6',\n",
       " 'winningParty': None,\n",
       " 'inFavorPlantiff': False,\n",
       " 'votes': {'potter_stewart': 'defendant',\n",
       "  'thurgood_marshall': 'plantiff',\n",
       "  'william_j_brennan_jr': 'plantiff',\n",
       "  'byron_r_white': 'defendant',\n",
       "  'warren_e_burger': 'defendant',\n",
       "  'harry_a_blackmun': 'defendant',\n",
       "  'lewis_f_powell_jr': 'defendant',\n",
       "  'william_h_rehnquist': 'defendant',\n",
       "  'john_paul_stevens': 'defendant'}}"
      ]
     },
     "execution_count": 18,
     "metadata": {},
     "output_type": "execute_result"
    }
   ],
   "source": [
    "processedCases[0]"
   ]
  },
  {
   "cell_type": "code",
   "execution_count": 19,
   "metadata": {},
   "outputs": [
    {
     "data": {
      "text/plain": [
       "{'plantiff': 'Hosanna-Tabor Evangelical Lutheran Church and School',\n",
       " 'defendant': 'EEOC',\n",
       " 'question': 'Does the ministerial exception, which prohibits most employment-related lawsuits against religious organizations by employees performing religious functions, apply to a teacher at a religious elementary school who teaches the full secular curriculum, but also teaches daily religion classes, is a commissioned minister, and regularly leads students in prayer and worship?',\n",
       " 'facts': 'Cheryl Perich filed a lawsuit against the plantiff in Redford, Mich., for allegedly violating the Americans with Disabilities Act when they fired her after she became sick in 2004. After several months on disability, Perich was diagnosed and treated for narcolepsy and was able to return to work without restrictions. But she said the school at that point urged her to resign and, when she refused, fired her.\\nPerich filed a complaint with the Equal Employment Opportunity Commission, which ruled in her favor and authorized a lawsuit against the school. Attorneys representing plantiff argued that the \"ministerial exception\" under the First Amendment should apply in their client\\'s case. The exception gives religious institutions certain rights to control employment matters without interference from the courts. The district court granted summary judgment in favor of the school, but the United States Court of Appeals for the Sixth Circuit overturned that ruling and remanded the case back to the lower court for a full trial on the merits. The court held that Perich\\'s role at the school was not religious in nature, and therefore the ministerial exception did not apply.',\n",
       " 'court': 'roberts6',\n",
       " 'winningParty': 'Hosanna-Tabor Evangelical Lutheran Church and School',\n",
       " 'inFavorPlantiff': True,\n",
       " 'votes': {'john_g_roberts_jr': 'plantiff',\n",
       "  'antonin_scalia': 'plantiff',\n",
       "  'anthony_m_kennedy': 'plantiff',\n",
       "  'clarence_thomas': 'plantiff',\n",
       "  'ruth_bader_ginsburg': 'plantiff',\n",
       "  'stephen_g_breyer': 'plantiff',\n",
       "  'samuel_a_alito_jr': 'plantiff',\n",
       "  'sonia_sotomayor': 'plantiff',\n",
       "  'elena_kagan': 'plantiff'}}"
      ]
     },
     "execution_count": 19,
     "metadata": {},
     "output_type": "execute_result"
    }
   ],
   "source": [
    "processedCases[3]"
   ]
  },
  {
   "cell_type": "code",
   "execution_count": 20,
   "metadata": {},
   "outputs": [],
   "source": [
    "import pickle\n",
    "\n",
    "with open('processedCases.pickle', 'wb') as handle:\n",
    "    pickle.dump(processedCases, handle, protocol=pickle.HIGHEST_PROTOCOL)"
   ]
  },
  {
   "cell_type": "code",
   "execution_count": null,
   "metadata": {},
   "outputs": [],
   "source": []
  }
 ],
 "metadata": {
  "interpreter": {
   "hash": "9bcfee793e6c521d527cbdd180a6b57828f21de8e1d26510d562b2b26b0dd756"
  },
  "kernelspec": {
   "display_name": "Python 3.7.11 64-bit ('scotus': conda)",
   "name": "python3"
  },
  "language_info": {
   "codemirror_mode": {
    "name": "ipython",
    "version": 3
   },
   "file_extension": ".py",
   "mimetype": "text/x-python",
   "name": "python",
   "nbconvert_exporter": "python",
   "pygments_lexer": "ipython3",
   "version": "3.7.11"
  },
  "orig_nbformat": 4
 },
 "nbformat": 4,
 "nbformat_minor": 2
}
