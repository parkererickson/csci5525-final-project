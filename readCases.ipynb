{
 "cells": [
  {
   "cell_type": "code",
   "execution_count": 1,
   "source": [
    "import os\n",
    "path = \"/Users/parker.erickson/supreme_court_transcripts/oyez/cases/\"\n",
    "cases = os.listdir(path)"
   ],
   "outputs": [],
   "metadata": {}
  },
  {
   "cell_type": "code",
   "execution_count": 2,
   "source": [
    "print(len(cases))"
   ],
   "outputs": [
    {
     "output_type": "stream",
     "name": "stdout",
     "text": [
      "16425\n"
     ]
    }
   ],
   "metadata": {}
  },
  {
   "cell_type": "code",
   "execution_count": 3,
   "source": [
    "import json\n",
    "\n",
    "validCases = []\n",
    "\n",
    "for case in cases:\n",
    "    try:\n",
    "        caseDetails = json.load(open(path + case))\n",
    "        if type(caseDetails) == dict:\n",
    "            if (caseDetails[\"facts_of_the_case\"] is not None and caseDetails[\"facts_of_the_case\"] != '') and (caseDetails[\"question\"] is not None and caseDetails[\"question\"] != '') and (caseDetails[\"decisions\"] is not None and caseDetails[\"decisions\"] != ''):\n",
    "                validCases.append(caseDetails)\n",
    "    except:\n",
    "        pass"
   ],
   "outputs": [],
   "metadata": {}
  },
  {
   "cell_type": "code",
   "execution_count": 4,
   "source": [
    "len(validCases)"
   ],
   "outputs": [
    {
     "output_type": "execute_result",
     "data": {
      "text/plain": [
       "3122"
      ]
     },
     "metadata": {},
     "execution_count": 4
    }
   ],
   "metadata": {}
  },
  {
   "cell_type": "code",
   "execution_count": 5,
   "source": [
    "def parseCase(case):\n",
    "    try:\n",
    "        cn = case[\"name\"].split(\"v.\")\n",
    "        plantiff = cn[0].strip()\n",
    "        defendant = cn[1].strip()\n",
    "        question = case[\"question\"].strip().strip(\"<p>\").strip(\"</p>\").strip(\"\\n\")\n",
    "        facts = case[\"facts_of_the_case\"].strip().strip(\"<p>\").strip(\"</p>\").strip(\"\\n\")\n",
    "\n",
    "        question = question.replace(plantiff, \"plantiff\").replace(defendant, \"defendant\")\n",
    "        facts = facts.replace(plantiff, \"plantiff\").replace(defendant, \"defendant\")\n",
    "\n",
    "        winningParty = case[\"decisions\"][0][\"winning_party\"]\n",
    "        inFavorPlantiff = True if winningParty == plantiff or winningParty == case[\"first_party\"] else False\n",
    "        court = case[\"heard_by\"][0][\"identifier\"]\n",
    "        votes = {}\n",
    "        for vote in case[\"decisions\"][0][\"votes\"]:\n",
    "            if vote[\"vote\"] != \"none\":\n",
    "                if inFavorPlantiff and vote[\"vote\"] == \"majority\":\n",
    "                    votes[vote[\"member\"][\"identifier\"]] = \"plantiff\"\n",
    "                elif not inFavorPlantiff and vote[\"vote\"] == \"majority\":\n",
    "                    votes[vote[\"member\"][\"identifier\"]] = \"defendant\"\n",
    "                elif inFavorPlantiff and vote[\"vote\"] == \"minority\":\n",
    "                    votes[vote[\"member\"][\"identifier\"]] = \"defendant\"\n",
    "                elif not inFavorPlantiff and vote[\"vote\"] == \"minority\":\n",
    "                    votes[vote[\"member\"][\"identifier\"]] = \"plantiff\"\n",
    "        return {\n",
    "            \"plantiff\": plantiff,\n",
    "            \"defendant\": defendant,\n",
    "            \"question\": question,\n",
    "            \"facts\": facts,\n",
    "            \"court\": court,\n",
    "            \"winningParty\": winningParty,\n",
    "            \"inFavorPlantiff\": inFavorPlantiff,\n",
    "            \"votes\": votes\n",
    "        }\n",
    "    except:\n",
    "        pass"
   ],
   "outputs": [],
   "metadata": {}
  },
  {
   "cell_type": "code",
   "execution_count": 6,
   "source": [
    "processedCases = []\n",
    "for case in validCases:\n",
    "    paresed = parseCase(case)\n",
    "    if paresed is not None:\n",
    "        processedCases.append(paresed)"
   ],
   "outputs": [],
   "metadata": {}
  },
  {
   "cell_type": "code",
   "execution_count": 7,
   "source": [
    "len(processedCases)"
   ],
   "outputs": [
    {
     "output_type": "execute_result",
     "data": {
      "text/plain": [
       "2938"
      ]
     },
     "metadata": {},
     "execution_count": 7
    }
   ],
   "metadata": {}
  },
  {
   "cell_type": "code",
   "execution_count": 8,
   "source": [
    "processedCases[0]"
   ],
   "outputs": [
    {
     "output_type": "execute_result",
     "data": {
      "text/plain": [
       "{'plantiff': 'Calderone',\n",
       " 'defendant': 'Thompson',\n",
       " 'question': \"Did the Court of Appeal's order recalling its mandate denying Thomas M. defendant all habeas relief violate 28 USC section 2244(b) as amended by the Antiterrorism and Effective Death Penalty Act of 1996? Was the order an abuse of the appellate court's discretion?\",\n",
       " 'facts': \"In 1983, Thomas M. defendant was convicted of the rape and murder of Ginger Fleischli in California state court. The special circumstance found by the jury of murder during the commission of rape made defendant eligible for the death penalty. In 1995, a federal District Court invalidated defendant's death sentence by granted relief on his rape conviction and the rape special circumstance. In reversing, the Court of Appeals reinstated defendant's death sentence, noting that the State presented strong evidence of rape at trial. The Court of Appeals then issued a mandate denying all habeas relief. Two days before defendant's execution, the Court of Appeals recalled its mandate and granted defendant relief. The appellate court found that defendant was denied effective assistance of counsel at trial.\",\n",
       " 'court': 'rehnquist10',\n",
       " 'winningParty': 'Calderone',\n",
       " 'inFavorPlantiff': True,\n",
       " 'votes': {'william_h_rehnquist': 'plantiff',\n",
       "  'john_paul_stevens': 'defendant',\n",
       "  'sandra_day_oconnor': 'plantiff',\n",
       "  'antonin_scalia': 'plantiff',\n",
       "  'anthony_m_kennedy': 'plantiff',\n",
       "  'david_h_souter': 'defendant',\n",
       "  'clarence_thomas': 'plantiff',\n",
       "  'ruth_bader_ginsburg': 'defendant',\n",
       "  'stephen_g_breyer': 'defendant'}}"
      ]
     },
     "metadata": {},
     "execution_count": 8
    }
   ],
   "metadata": {}
  },
  {
   "cell_type": "code",
   "execution_count": 9,
   "source": [
    "import pickle\n",
    "\n",
    "with open('processedCases.pickle', 'wb') as handle:\n",
    "    pickle.dump(processedCases, handle, protocol=pickle.HIGHEST_PROTOCOL)"
   ],
   "outputs": [],
   "metadata": {}
  },
  {
   "cell_type": "code",
   "execution_count": null,
   "source": [],
   "outputs": [],
   "metadata": {}
  }
 ],
 "metadata": {
  "orig_nbformat": 4,
  "language_info": {
   "name": "python",
   "version": "3.7.11",
   "mimetype": "text/x-python",
   "codemirror_mode": {
    "name": "ipython",
    "version": 3
   },
   "pygments_lexer": "ipython3",
   "nbconvert_exporter": "python",
   "file_extension": ".py"
  },
  "kernelspec": {
   "name": "python3",
   "display_name": "Python 3.7.11 64-bit ('scotus': conda)"
  },
  "interpreter": {
   "hash": "c7d6c6bf3a9871602155f511049beaabedd6a9be8dcd8fb85b899fcd7dc30501"
  }
 },
 "nbformat": 4,
 "nbformat_minor": 2
}